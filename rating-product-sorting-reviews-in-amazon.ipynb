{
 "cells": [
  {
   "cell_type": "markdown",
   "id": "80c8b34e",
   "metadata": {
    "papermill": {
     "duration": 0.006896,
     "end_time": "2022-11-02T11:11:29.999332",
     "exception": false,
     "start_time": "2022-11-02T11:11:29.992436",
     "status": "completed"
    },
    "tags": []
   },
   "source": [
    "# Rating Product & Sorting Reviews in Amazon"
   ]
  },
  {
   "cell_type": "markdown",
   "id": "6e994963",
   "metadata": {
    "papermill": {
     "duration": 0.005975,
     "end_time": "2022-11-02T11:11:30.011605",
     "exception": false,
     "start_time": "2022-11-02T11:11:30.005630",
     "status": "completed"
    },
    "tags": []
   },
   "source": [
    "## Business Problem"
   ]
  },
  {
   "cell_type": "markdown",
   "id": "3d9dbe39",
   "metadata": {
    "papermill": {
     "duration": 0.005974,
     "end_time": "2022-11-02T11:11:30.024169",
     "exception": false,
     "start_time": "2022-11-02T11:11:30.018195",
     "status": "completed"
    },
    "tags": []
   },
   "source": [
    "One of the most important problems in e-commerce is the correct calculation of the points given to the products after sales. The solution to this problem means providing greater customer satisfaction for the e-commerce site, prominence of the product for the sellers and a seamless shopping experience for the buyers. Another problem is the correct ordering of the comments given to the products. Since misleading comments will directly affect the sale of the product, it will cause both financial loss and loss of customers. In the solution of these 2 basic problems, while the e-commerce site and the sellers will increase their sales, the customers will complete the purchasing journey without any problems."
   ]
  },
  {
   "cell_type": "markdown",
   "id": "99ec62f3",
   "metadata": {
    "papermill": {
     "duration": 0.005794,
     "end_time": "2022-11-02T11:11:30.035977",
     "exception": false,
     "start_time": "2022-11-02T11:11:30.030183",
     "status": "completed"
    },
    "tags": []
   },
   "source": [
    "### Dataset Story\n"
   ]
  },
  {
   "cell_type": "markdown",
   "id": "5f9831b8",
   "metadata": {
    "papermill": {
     "duration": 0.005787,
     "end_time": "2022-11-02T11:11:30.047833",
     "exception": false,
     "start_time": "2022-11-02T11:11:30.042046",
     "status": "completed"
    },
    "tags": []
   },
   "source": [
    "This dataset, which includes Amazon product data, includes product categories and various metadata. The product with the most reviews in the electronics category has user ratings and reviews.\n",
    "\n",
    "**reviewerID:** User ID\n",
    "\n",
    "**asin:** Product ID\n",
    "\n",
    "**reviewerName:** Username\n",
    "\n",
    "**Helpful:** Useful evaluation rating\n",
    "\n",
    "**reviewText:** Evaluation\n",
    "\n",
    "**overall:** Product rating\n",
    "\n",
    "**summary:** Evaluation summary\n",
    "\n",
    "**unixReviewTime:** Evaluation time\n",
    "\n",
    "**reviewTime:** Review time Raw\n",
    "\n",
    "**day_diff:** Number of days since evaluation\n",
    "\n",
    "**helpful_yes:** Number of times the review was found helpful\n",
    "\n",
    "**total_vote:** Number of votes given to the review"
   ]
  },
  {
   "cell_type": "code",
   "execution_count": 1,
   "id": "4ff80cf4",
   "metadata": {
    "execution": {
     "iopub.execute_input": "2022-11-02T11:11:30.063120Z",
     "iopub.status.busy": "2022-11-02T11:11:30.062721Z",
     "iopub.status.idle": "2022-11-02T11:11:31.272309Z",
     "shell.execute_reply": "2022-11-02T11:11:31.270717Z"
    },
    "papermill": {
     "duration": 1.221287,
     "end_time": "2022-11-02T11:11:31.275127",
     "exception": false,
     "start_time": "2022-11-02T11:11:30.053840",
     "status": "completed"
    },
    "tags": []
   },
   "outputs": [],
   "source": [
    "#Necessary libraries are imported.\n",
    "import pandas as pd\n",
    "import math\n",
    "import scipy.stats as st\n",
    "import datetime as dt\n",
    "\n",
    "from sklearn.preprocessing import MinMaxScaler\n",
    "pd.set_option('display.max_columns', None)\n",
    "pd.set_option('display.expand_frame_repr', False)\n",
    "pd.set_option('display.float_format', lambda x: '%.5f' % x)"
   ]
  },
  {
   "cell_type": "code",
   "execution_count": 2,
   "id": "7b7bc4c4",
   "metadata": {
    "execution": {
     "iopub.execute_input": "2022-11-02T11:11:31.288995Z",
     "iopub.status.busy": "2022-11-02T11:11:31.288604Z",
     "iopub.status.idle": "2022-11-02T11:11:31.369654Z",
     "shell.execute_reply": "2022-11-02T11:11:31.368322Z"
    },
    "papermill": {
     "duration": 0.091508,
     "end_time": "2022-11-02T11:11:31.372759",
     "exception": false,
     "start_time": "2022-11-02T11:11:31.281251",
     "status": "completed"
    },
    "tags": []
   },
   "outputs": [],
   "source": [
    "df_ = pd.read_csv(\"../input/amazon-review/amazon_review.csv\")\n"
   ]
  },
  {
   "cell_type": "code",
   "execution_count": 3,
   "id": "b42af344",
   "metadata": {
    "execution": {
     "iopub.execute_input": "2022-11-02T11:11:31.388911Z",
     "iopub.status.busy": "2022-11-02T11:11:31.388618Z",
     "iopub.status.idle": "2022-11-02T11:11:31.393586Z",
     "shell.execute_reply": "2022-11-02T11:11:31.392401Z"
    },
    "papermill": {
     "duration": 0.015018,
     "end_time": "2022-11-02T11:11:31.396050",
     "exception": false,
     "start_time": "2022-11-02T11:11:31.381032",
     "status": "completed"
    },
    "tags": []
   },
   "outputs": [],
   "source": [
    "df = df_.copy()\n"
   ]
  },
  {
   "cell_type": "markdown",
   "id": "75e69342",
   "metadata": {
    "papermill": {
     "duration": 0.006218,
     "end_time": "2022-11-02T11:11:31.409256",
     "exception": false,
     "start_time": "2022-11-02T11:11:31.403038",
     "status": "completed"
    },
    "tags": []
   },
   "source": [
    "# Data Overview"
   ]
  },
  {
   "cell_type": "code",
   "execution_count": 4,
   "id": "af3d5e11",
   "metadata": {
    "execution": {
     "iopub.execute_input": "2022-11-02T11:11:31.423374Z",
     "iopub.status.busy": "2022-11-02T11:11:31.422803Z",
     "iopub.status.idle": "2022-11-02T11:11:31.451437Z",
     "shell.execute_reply": "2022-11-02T11:11:31.450531Z"
    },
    "papermill": {
     "duration": 0.037877,
     "end_time": "2022-11-02T11:11:31.453294",
     "exception": false,
     "start_time": "2022-11-02T11:11:31.415417",
     "status": "completed"
    },
    "tags": []
   },
   "outputs": [
    {
     "data": {
      "text/html": [
       "<div>\n",
       "<style scoped>\n",
       "    .dataframe tbody tr th:only-of-type {\n",
       "        vertical-align: middle;\n",
       "    }\n",
       "\n",
       "    .dataframe tbody tr th {\n",
       "        vertical-align: top;\n",
       "    }\n",
       "\n",
       "    .dataframe thead th {\n",
       "        text-align: right;\n",
       "    }\n",
       "</style>\n",
       "<table border=\"1\" class=\"dataframe\">\n",
       "  <thead>\n",
       "    <tr style=\"text-align: right;\">\n",
       "      <th></th>\n",
       "      <th>reviewerID</th>\n",
       "      <th>asin</th>\n",
       "      <th>reviewerName</th>\n",
       "      <th>helpful</th>\n",
       "      <th>reviewText</th>\n",
       "      <th>overall</th>\n",
       "      <th>summary</th>\n",
       "      <th>unixReviewTime</th>\n",
       "      <th>reviewTime</th>\n",
       "      <th>day_diff</th>\n",
       "      <th>helpful_yes</th>\n",
       "      <th>total_vote</th>\n",
       "    </tr>\n",
       "  </thead>\n",
       "  <tbody>\n",
       "    <tr>\n",
       "      <th>0</th>\n",
       "      <td>A3SBTW3WS4IQSN</td>\n",
       "      <td>B007WTAJTO</td>\n",
       "      <td>NaN</td>\n",
       "      <td>[0, 0]</td>\n",
       "      <td>No issues.</td>\n",
       "      <td>4.00000</td>\n",
       "      <td>Four Stars</td>\n",
       "      <td>1406073600</td>\n",
       "      <td>2014-07-23</td>\n",
       "      <td>138</td>\n",
       "      <td>0</td>\n",
       "      <td>0</td>\n",
       "    </tr>\n",
       "    <tr>\n",
       "      <th>1</th>\n",
       "      <td>A18K1ODH1I2MVB</td>\n",
       "      <td>B007WTAJTO</td>\n",
       "      <td>0mie</td>\n",
       "      <td>[0, 0]</td>\n",
       "      <td>Purchased this for my device, it worked as adv...</td>\n",
       "      <td>5.00000</td>\n",
       "      <td>MOAR SPACE!!!</td>\n",
       "      <td>1382659200</td>\n",
       "      <td>2013-10-25</td>\n",
       "      <td>409</td>\n",
       "      <td>0</td>\n",
       "      <td>0</td>\n",
       "    </tr>\n",
       "    <tr>\n",
       "      <th>2</th>\n",
       "      <td>A2FII3I2MBMUIA</td>\n",
       "      <td>B007WTAJTO</td>\n",
       "      <td>1K3</td>\n",
       "      <td>[0, 0]</td>\n",
       "      <td>it works as expected. I should have sprung for...</td>\n",
       "      <td>4.00000</td>\n",
       "      <td>nothing to really say....</td>\n",
       "      <td>1356220800</td>\n",
       "      <td>2012-12-23</td>\n",
       "      <td>715</td>\n",
       "      <td>0</td>\n",
       "      <td>0</td>\n",
       "    </tr>\n",
       "    <tr>\n",
       "      <th>3</th>\n",
       "      <td>A3H99DFEG68SR</td>\n",
       "      <td>B007WTAJTO</td>\n",
       "      <td>1m2</td>\n",
       "      <td>[0, 0]</td>\n",
       "      <td>This think has worked out great.Had a diff. br...</td>\n",
       "      <td>5.00000</td>\n",
       "      <td>Great buy at this price!!!  *** UPDATE</td>\n",
       "      <td>1384992000</td>\n",
       "      <td>2013-11-21</td>\n",
       "      <td>382</td>\n",
       "      <td>0</td>\n",
       "      <td>0</td>\n",
       "    </tr>\n",
       "    <tr>\n",
       "      <th>4</th>\n",
       "      <td>A375ZM4U047O79</td>\n",
       "      <td>B007WTAJTO</td>\n",
       "      <td>2&amp;amp;1/2Men</td>\n",
       "      <td>[0, 0]</td>\n",
       "      <td>Bought it with Retail Packaging, arrived legit...</td>\n",
       "      <td>5.00000</td>\n",
       "      <td>best deal around</td>\n",
       "      <td>1373673600</td>\n",
       "      <td>2013-07-13</td>\n",
       "      <td>513</td>\n",
       "      <td>0</td>\n",
       "      <td>0</td>\n",
       "    </tr>\n",
       "  </tbody>\n",
       "</table>\n",
       "</div>"
      ],
      "text/plain": [
       "       reviewerID        asin  reviewerName helpful                                         reviewText  overall                                 summary  unixReviewTime  reviewTime  day_diff  helpful_yes  total_vote\n",
       "0  A3SBTW3WS4IQSN  B007WTAJTO           NaN  [0, 0]                                         No issues.  4.00000                              Four Stars      1406073600  2014-07-23       138            0           0\n",
       "1  A18K1ODH1I2MVB  B007WTAJTO          0mie  [0, 0]  Purchased this for my device, it worked as adv...  5.00000                           MOAR SPACE!!!      1382659200  2013-10-25       409            0           0\n",
       "2  A2FII3I2MBMUIA  B007WTAJTO           1K3  [0, 0]  it works as expected. I should have sprung for...  4.00000               nothing to really say....      1356220800  2012-12-23       715            0           0\n",
       "3   A3H99DFEG68SR  B007WTAJTO           1m2  [0, 0]  This think has worked out great.Had a diff. br...  5.00000  Great buy at this price!!!  *** UPDATE      1384992000  2013-11-21       382            0           0\n",
       "4  A375ZM4U047O79  B007WTAJTO  2&amp;1/2Men  [0, 0]  Bought it with Retail Packaging, arrived legit...  5.00000                        best deal around      1373673600  2013-07-13       513            0           0"
      ]
     },
     "execution_count": 4,
     "metadata": {},
     "output_type": "execute_result"
    }
   ],
   "source": [
    "#The first 5 rows of the dataset were looked at.\n",
    "df.head()"
   ]
  },
  {
   "cell_type": "code",
   "execution_count": 5,
   "id": "220f5588",
   "metadata": {
    "execution": {
     "iopub.execute_input": "2022-11-02T11:11:31.468164Z",
     "iopub.status.busy": "2022-11-02T11:11:31.467603Z",
     "iopub.status.idle": "2022-11-02T11:11:31.480025Z",
     "shell.execute_reply": "2022-11-02T11:11:31.479396Z"
    },
    "papermill": {
     "duration": 0.021808,
     "end_time": "2022-11-02T11:11:31.481512",
     "exception": false,
     "start_time": "2022-11-02T11:11:31.459704",
     "status": "completed"
    },
    "tags": []
   },
   "outputs": [
    {
     "data": {
      "text/html": [
       "<div>\n",
       "<style scoped>\n",
       "    .dataframe tbody tr th:only-of-type {\n",
       "        vertical-align: middle;\n",
       "    }\n",
       "\n",
       "    .dataframe tbody tr th {\n",
       "        vertical-align: top;\n",
       "    }\n",
       "\n",
       "    .dataframe thead th {\n",
       "        text-align: right;\n",
       "    }\n",
       "</style>\n",
       "<table border=\"1\" class=\"dataframe\">\n",
       "  <thead>\n",
       "    <tr style=\"text-align: right;\">\n",
       "      <th></th>\n",
       "      <th>reviewerID</th>\n",
       "      <th>asin</th>\n",
       "      <th>reviewerName</th>\n",
       "      <th>helpful</th>\n",
       "      <th>reviewText</th>\n",
       "      <th>overall</th>\n",
       "      <th>summary</th>\n",
       "      <th>unixReviewTime</th>\n",
       "      <th>reviewTime</th>\n",
       "      <th>day_diff</th>\n",
       "      <th>helpful_yes</th>\n",
       "      <th>total_vote</th>\n",
       "    </tr>\n",
       "  </thead>\n",
       "  <tbody>\n",
       "    <tr>\n",
       "      <th>4910</th>\n",
       "      <td>A2LBMKXRM5H2W9</td>\n",
       "      <td>B007WTAJTO</td>\n",
       "      <td>ZM \"J\"</td>\n",
       "      <td>[0, 0]</td>\n",
       "      <td>I bought this Sandisk 16GB Class 10 to use wit...</td>\n",
       "      <td>1.00000</td>\n",
       "      <td>Do not waste your money.</td>\n",
       "      <td>1374537600</td>\n",
       "      <td>2013-07-23</td>\n",
       "      <td>503</td>\n",
       "      <td>0</td>\n",
       "      <td>0</td>\n",
       "    </tr>\n",
       "    <tr>\n",
       "      <th>4911</th>\n",
       "      <td>ALGDLRUI1ZPCS</td>\n",
       "      <td>B007WTAJTO</td>\n",
       "      <td>Zo</td>\n",
       "      <td>[0, 0]</td>\n",
       "      <td>Used this for extending the capabilities of my...</td>\n",
       "      <td>5.00000</td>\n",
       "      <td>Great item!</td>\n",
       "      <td>1377129600</td>\n",
       "      <td>2013-08-22</td>\n",
       "      <td>473</td>\n",
       "      <td>0</td>\n",
       "      <td>0</td>\n",
       "    </tr>\n",
       "    <tr>\n",
       "      <th>4912</th>\n",
       "      <td>A2MR1NI0ENW2AD</td>\n",
       "      <td>B007WTAJTO</td>\n",
       "      <td>Z S Liske</td>\n",
       "      <td>[0, 0]</td>\n",
       "      <td>Great card that is very fast and reliable. It ...</td>\n",
       "      <td>5.00000</td>\n",
       "      <td>Fast and reliable memory card</td>\n",
       "      <td>1396224000</td>\n",
       "      <td>2014-03-31</td>\n",
       "      <td>252</td>\n",
       "      <td>0</td>\n",
       "      <td>0</td>\n",
       "    </tr>\n",
       "    <tr>\n",
       "      <th>4913</th>\n",
       "      <td>A37E6P3DSO9QJD</td>\n",
       "      <td>B007WTAJTO</td>\n",
       "      <td>Z Taylor</td>\n",
       "      <td>[0, 0]</td>\n",
       "      <td>Good amount of space for the stuff I want to d...</td>\n",
       "      <td>5.00000</td>\n",
       "      <td>Great little card</td>\n",
       "      <td>1379289600</td>\n",
       "      <td>2013-09-16</td>\n",
       "      <td>448</td>\n",
       "      <td>0</td>\n",
       "      <td>0</td>\n",
       "    </tr>\n",
       "    <tr>\n",
       "      <th>4914</th>\n",
       "      <td>A8KGFTFQ86IBR</td>\n",
       "      <td>B007WTAJTO</td>\n",
       "      <td>Zza</td>\n",
       "      <td>[0, 0]</td>\n",
       "      <td>I've heard bad things about this 64gb Micro SD...</td>\n",
       "      <td>5.00000</td>\n",
       "      <td>So far so good.</td>\n",
       "      <td>1388620800</td>\n",
       "      <td>2014-02-01</td>\n",
       "      <td>310</td>\n",
       "      <td>0</td>\n",
       "      <td>0</td>\n",
       "    </tr>\n",
       "  </tbody>\n",
       "</table>\n",
       "</div>"
      ],
      "text/plain": [
       "          reviewerID        asin reviewerName helpful                                         reviewText  overall                        summary  unixReviewTime  reviewTime  day_diff  helpful_yes  total_vote\n",
       "4910  A2LBMKXRM5H2W9  B007WTAJTO       ZM \"J\"  [0, 0]  I bought this Sandisk 16GB Class 10 to use wit...  1.00000       Do not waste your money.      1374537600  2013-07-23       503            0           0\n",
       "4911   ALGDLRUI1ZPCS  B007WTAJTO           Zo  [0, 0]  Used this for extending the capabilities of my...  5.00000                    Great item!      1377129600  2013-08-22       473            0           0\n",
       "4912  A2MR1NI0ENW2AD  B007WTAJTO    Z S Liske  [0, 0]  Great card that is very fast and reliable. It ...  5.00000  Fast and reliable memory card      1396224000  2014-03-31       252            0           0\n",
       "4913  A37E6P3DSO9QJD  B007WTAJTO     Z Taylor  [0, 0]  Good amount of space for the stuff I want to d...  5.00000              Great little card      1379289600  2013-09-16       448            0           0\n",
       "4914   A8KGFTFQ86IBR  B007WTAJTO          Zza  [0, 0]  I've heard bad things about this 64gb Micro SD...  5.00000                So far so good.      1388620800  2014-02-01       310            0           0"
      ]
     },
     "execution_count": 5,
     "metadata": {},
     "output_type": "execute_result"
    }
   ],
   "source": [
    "#The last 5 rows of the dataset were viewed.\n",
    "df.tail()"
   ]
  },
  {
   "cell_type": "code",
   "execution_count": 6,
   "id": "672e093e",
   "metadata": {
    "execution": {
     "iopub.execute_input": "2022-11-02T11:11:31.496880Z",
     "iopub.status.busy": "2022-11-02T11:11:31.496338Z",
     "iopub.status.idle": "2022-11-02T11:11:31.524683Z",
     "shell.execute_reply": "2022-11-02T11:11:31.522788Z"
    },
    "papermill": {
     "duration": 0.040354,
     "end_time": "2022-11-02T11:11:31.528823",
     "exception": false,
     "start_time": "2022-11-02T11:11:31.488469",
     "status": "completed"
    },
    "tags": []
   },
   "outputs": [
    {
     "name": "stdout",
     "output_type": "stream",
     "text": [
      "<class 'pandas.core.frame.DataFrame'>\n",
      "RangeIndex: 4915 entries, 0 to 4914\n",
      "Data columns (total 12 columns):\n",
      " #   Column          Non-Null Count  Dtype  \n",
      "---  ------          --------------  -----  \n",
      " 0   reviewerID      4915 non-null   object \n",
      " 1   asin            4915 non-null   object \n",
      " 2   reviewerName    4914 non-null   object \n",
      " 3   helpful         4915 non-null   object \n",
      " 4   reviewText      4914 non-null   object \n",
      " 5   overall         4915 non-null   float64\n",
      " 6   summary         4915 non-null   object \n",
      " 7   unixReviewTime  4915 non-null   int64  \n",
      " 8   reviewTime      4915 non-null   object \n",
      " 9   day_diff        4915 non-null   int64  \n",
      " 10  helpful_yes     4915 non-null   int64  \n",
      " 11  total_vote      4915 non-null   int64  \n",
      "dtypes: float64(1), int64(4), object(7)\n",
      "memory usage: 460.9+ KB\n"
     ]
    }
   ],
   "source": [
    "#Variable types and numbers of the data set were examined.\n",
    "df.info()"
   ]
  },
  {
   "cell_type": "code",
   "execution_count": 7,
   "id": "71361288",
   "metadata": {
    "execution": {
     "iopub.execute_input": "2022-11-02T11:11:31.544131Z",
     "iopub.status.busy": "2022-11-02T11:11:31.543510Z",
     "iopub.status.idle": "2022-11-02T11:11:31.553136Z",
     "shell.execute_reply": "2022-11-02T11:11:31.551725Z"
    },
    "papermill": {
     "duration": 0.01943,
     "end_time": "2022-11-02T11:11:31.555149",
     "exception": false,
     "start_time": "2022-11-02T11:11:31.535719",
     "status": "completed"
    },
    "tags": []
   },
   "outputs": [
    {
     "data": {
      "text/plain": [
       "reviewerID        0\n",
       "asin              0\n",
       "reviewerName      1\n",
       "helpful           0\n",
       "reviewText        1\n",
       "overall           0\n",
       "summary           0\n",
       "unixReviewTime    0\n",
       "reviewTime        0\n",
       "day_diff          0\n",
       "helpful_yes       0\n",
       "total_vote        0\n",
       "dtype: int64"
      ]
     },
     "execution_count": 7,
     "metadata": {},
     "output_type": "execute_result"
    }
   ],
   "source": [
    "#It was checked for missing data in the dataset.\n",
    "df.isnull().sum()"
   ]
  },
  {
   "cell_type": "code",
   "execution_count": 8,
   "id": "a58c4ee0",
   "metadata": {
    "execution": {
     "iopub.execute_input": "2022-11-02T11:11:31.570815Z",
     "iopub.status.busy": "2022-11-02T11:11:31.569756Z",
     "iopub.status.idle": "2022-11-02T11:11:31.599037Z",
     "shell.execute_reply": "2022-11-02T11:11:31.597082Z"
    },
    "papermill": {
     "duration": 0.039672,
     "end_time": "2022-11-02T11:11:31.601489",
     "exception": false,
     "start_time": "2022-11-02T11:11:31.561817",
     "status": "completed"
    },
    "tags": []
   },
   "outputs": [
    {
     "data": {
      "text/html": [
       "<div>\n",
       "<style scoped>\n",
       "    .dataframe tbody tr th:only-of-type {\n",
       "        vertical-align: middle;\n",
       "    }\n",
       "\n",
       "    .dataframe tbody tr th {\n",
       "        vertical-align: top;\n",
       "    }\n",
       "\n",
       "    .dataframe thead th {\n",
       "        text-align: right;\n",
       "    }\n",
       "</style>\n",
       "<table border=\"1\" class=\"dataframe\">\n",
       "  <thead>\n",
       "    <tr style=\"text-align: right;\">\n",
       "      <th></th>\n",
       "      <th>count</th>\n",
       "      <th>mean</th>\n",
       "      <th>std</th>\n",
       "      <th>min</th>\n",
       "      <th>25%</th>\n",
       "      <th>50%</th>\n",
       "      <th>75%</th>\n",
       "      <th>max</th>\n",
       "    </tr>\n",
       "  </thead>\n",
       "  <tbody>\n",
       "    <tr>\n",
       "      <th>overall</th>\n",
       "      <td>4915.00000</td>\n",
       "      <td>4.58759</td>\n",
       "      <td>0.99685</td>\n",
       "      <td>1.00000</td>\n",
       "      <td>5.00000</td>\n",
       "      <td>5.00000</td>\n",
       "      <td>5.00000</td>\n",
       "      <td>5.00000</td>\n",
       "    </tr>\n",
       "    <tr>\n",
       "      <th>unixReviewTime</th>\n",
       "      <td>4915.00000</td>\n",
       "      <td>1379465001.66836</td>\n",
       "      <td>15818574.32275</td>\n",
       "      <td>1339200000.00000</td>\n",
       "      <td>1365897600.00000</td>\n",
       "      <td>1381276800.00000</td>\n",
       "      <td>1392163200.00000</td>\n",
       "      <td>1406073600.00000</td>\n",
       "    </tr>\n",
       "    <tr>\n",
       "      <th>day_diff</th>\n",
       "      <td>4915.00000</td>\n",
       "      <td>437.36704</td>\n",
       "      <td>209.43987</td>\n",
       "      <td>1.00000</td>\n",
       "      <td>281.00000</td>\n",
       "      <td>431.00000</td>\n",
       "      <td>601.00000</td>\n",
       "      <td>1064.00000</td>\n",
       "    </tr>\n",
       "    <tr>\n",
       "      <th>helpful_yes</th>\n",
       "      <td>4915.00000</td>\n",
       "      <td>1.31109</td>\n",
       "      <td>41.61916</td>\n",
       "      <td>0.00000</td>\n",
       "      <td>0.00000</td>\n",
       "      <td>0.00000</td>\n",
       "      <td>0.00000</td>\n",
       "      <td>1952.00000</td>\n",
       "    </tr>\n",
       "    <tr>\n",
       "      <th>total_vote</th>\n",
       "      <td>4915.00000</td>\n",
       "      <td>1.52146</td>\n",
       "      <td>44.12309</td>\n",
       "      <td>0.00000</td>\n",
       "      <td>0.00000</td>\n",
       "      <td>0.00000</td>\n",
       "      <td>0.00000</td>\n",
       "      <td>2020.00000</td>\n",
       "    </tr>\n",
       "  </tbody>\n",
       "</table>\n",
       "</div>"
      ],
      "text/plain": [
       "                    count             mean            std              min              25%              50%              75%              max\n",
       "overall        4915.00000          4.58759        0.99685          1.00000          5.00000          5.00000          5.00000          5.00000\n",
       "unixReviewTime 4915.00000 1379465001.66836 15818574.32275 1339200000.00000 1365897600.00000 1381276800.00000 1392163200.00000 1406073600.00000\n",
       "day_diff       4915.00000        437.36704      209.43987          1.00000        281.00000        431.00000        601.00000       1064.00000\n",
       "helpful_yes    4915.00000          1.31109       41.61916          0.00000          0.00000          0.00000          0.00000       1952.00000\n",
       "total_vote     4915.00000          1.52146       44.12309          0.00000          0.00000          0.00000          0.00000       2020.00000"
      ]
     },
     "execution_count": 8,
     "metadata": {},
     "output_type": "execute_result"
    }
   ],
   "source": [
    "#The statistical properties of the columns of the data set containing numeric data were checked.\n",
    "df.describe().T"
   ]
  },
  {
   "cell_type": "code",
   "execution_count": 9,
   "id": "40e1cfc6",
   "metadata": {
    "execution": {
     "iopub.execute_input": "2022-11-02T11:11:31.617194Z",
     "iopub.status.busy": "2022-11-02T11:11:31.616860Z",
     "iopub.status.idle": "2022-11-02T11:11:31.637320Z",
     "shell.execute_reply": "2022-11-02T11:11:31.636130Z"
    },
    "papermill": {
     "duration": 0.03147,
     "end_time": "2022-11-02T11:11:31.640026",
     "exception": false,
     "start_time": "2022-11-02T11:11:31.608556",
     "status": "completed"
    },
    "tags": []
   },
   "outputs": [
    {
     "data": {
      "text/plain": [
       "reviewerID        4915\n",
       "asin                 1\n",
       "reviewerName      4594\n",
       "helpful             42\n",
       "reviewText        4912\n",
       "overall              5\n",
       "summary           3885\n",
       "unixReviewTime     690\n",
       "reviewTime         690\n",
       "day_diff           690\n",
       "helpful_yes         23\n",
       "total_vote          26\n",
       "dtype: int64"
      ]
     },
     "execution_count": 9,
     "metadata": {},
     "output_type": "execute_result"
    }
   ],
   "source": [
    "#The number of unique values for each variable in the dataset was looked at.\n",
    "df.nunique()"
   ]
  },
  {
   "cell_type": "markdown",
   "id": "7148a0fb",
   "metadata": {
    "papermill": {
     "duration": 0.006343,
     "end_time": "2022-11-02T11:11:31.653432",
     "exception": false,
     "start_time": "2022-11-02T11:11:31.647089",
     "status": "completed"
    },
    "tags": []
   },
   "source": [
    "# Product Rating"
   ]
  },
  {
   "cell_type": "code",
   "execution_count": 10,
   "id": "c86114e6",
   "metadata": {
    "execution": {
     "iopub.execute_input": "2022-11-02T11:11:31.668663Z",
     "iopub.status.busy": "2022-11-02T11:11:31.668125Z",
     "iopub.status.idle": "2022-11-02T11:11:31.673494Z",
     "shell.execute_reply": "2022-11-02T11:11:31.672541Z"
    },
    "papermill": {
     "duration": 0.015766,
     "end_time": "2022-11-02T11:11:31.675837",
     "exception": false,
     "start_time": "2022-11-02T11:11:31.660071",
     "status": "completed"
    },
    "tags": []
   },
   "outputs": [
    {
     "data": {
      "text/plain": [
       "4.587589013224822"
      ]
     },
     "execution_count": 10,
     "metadata": {},
     "output_type": "execute_result"
    }
   ],
   "source": [
    "#The average score of the product was calculated.\n",
    "df.overall.mean()"
   ]
  },
  {
   "cell_type": "code",
   "execution_count": 11,
   "id": "18b987de",
   "metadata": {
    "execution": {
     "iopub.execute_input": "2022-11-02T11:11:31.692180Z",
     "iopub.status.busy": "2022-11-02T11:11:31.691424Z",
     "iopub.status.idle": "2022-11-02T11:11:32.094395Z",
     "shell.execute_reply": "2022-11-02T11:11:32.092741Z"
    },
    "papermill": {
     "duration": 0.413769,
     "end_time": "2022-11-02T11:11:32.096853",
     "exception": false,
     "start_time": "2022-11-02T11:11:31.683084",
     "status": "completed"
    },
    "tags": []
   },
   "outputs": [],
   "source": [
    "#The data types of the date variables are changed with datetime module to be able to use them in date calculations.\n",
    "df[\"reviewTime\"] = df[\"reviewTime\"].apply(pd.to_datetime)\n",
    "\n",
    "current_date = df[\"reviewTime\"].max()\n",
    "\n",
    "df[\"day_dif\"] = (current_date - df[\"reviewTime\"]).astype('timedelta64[D]')\n",
    "\n"
   ]
  },
  {
   "cell_type": "code",
   "execution_count": 12,
   "id": "d63e85b4",
   "metadata": {
    "execution": {
     "iopub.execute_input": "2022-11-02T11:11:32.113296Z",
     "iopub.status.busy": "2022-11-02T11:11:32.112881Z",
     "iopub.status.idle": "2022-11-02T11:11:32.124508Z",
     "shell.execute_reply": "2022-11-02T11:11:32.123192Z"
    },
    "papermill": {
     "duration": 0.022969,
     "end_time": "2022-11-02T11:11:32.127172",
     "exception": false,
     "start_time": "2022-11-02T11:11:32.104203",
     "status": "completed"
    },
    "tags": []
   },
   "outputs": [
    {
     "data": {
      "text/plain": [
       "0.25000   280.00000\n",
       "0.50000   430.00000\n",
       "0.75000   600.00000\n",
       "Name: day_dif, dtype: float64"
      ]
     },
     "execution_count": 12,
     "metadata": {},
     "output_type": "execute_result"
    }
   ],
   "source": [
    "#Quarterly values were found to determine weight.\n",
    "df[\"day_dif\"].quantile([.25, .5, .75])"
   ]
  },
  {
   "cell_type": "code",
   "execution_count": 13,
   "id": "594042ea",
   "metadata": {
    "execution": {
     "iopub.execute_input": "2022-11-02T11:11:32.144239Z",
     "iopub.status.busy": "2022-11-02T11:11:32.143891Z",
     "iopub.status.idle": "2022-11-02T11:11:32.158116Z",
     "shell.execute_reply": "2022-11-02T11:11:32.157074Z"
    },
    "papermill": {
     "duration": 0.025153,
     "end_time": "2022-11-02T11:11:32.160141",
     "exception": false,
     "start_time": "2022-11-02T11:11:32.134988",
     "status": "completed"
    },
    "tags": []
   },
   "outputs": [
    {
     "data": {
      "text/plain": [
       "4.604381672622366"
      ]
     },
     "execution_count": 13,
     "metadata": {},
     "output_type": "execute_result"
    }
   ],
   "source": [
    "#Calculated the weighted mean score by date.\n",
    "def time_based_weighted_average(dataframe, w1=30, w2=28, w3=24, w4=18):\n",
    "    return dataframe.loc[dataframe[\"day_dif\"] <= 280, \"overall\"].mean() * w1 / 100 + \\\n",
    "           dataframe.loc[(dataframe[\"day_dif\"] > 280) & (dataframe[\"day_dif\"] <=430), \"overall\"].mean() * w2 / 100 + \\\n",
    "           dataframe.loc[(dataframe[\"day_dif\"] > 430) & (dataframe[\"day_dif\"] <=600), \"overall\"].mean() * w3 / 100 + \\\n",
    "           dataframe.loc[(dataframe[\"day_dif\"] > 600), \"overall\"].mean() * w4 / 100\n",
    "\n",
    "time_based_weighted_average(df)"
   ]
  },
  {
   "cell_type": "code",
   "execution_count": 14,
   "id": "b0522975",
   "metadata": {
    "execution": {
     "iopub.execute_input": "2022-11-02T11:11:32.176138Z",
     "iopub.status.busy": "2022-11-02T11:11:32.175553Z",
     "iopub.status.idle": "2022-11-02T11:11:32.185734Z",
     "shell.execute_reply": "2022-11-02T11:11:32.183958Z"
    },
    "papermill": {
     "duration": 0.020934,
     "end_time": "2022-11-02T11:11:32.188132",
     "exception": false,
     "start_time": "2022-11-02T11:11:32.167198",
     "status": "completed"
    },
    "tags": []
   },
   "outputs": [
    {
     "data": {
      "text/plain": [
       "4.6957928802588995"
      ]
     },
     "execution_count": 14,
     "metadata": {},
     "output_type": "execute_result"
    }
   ],
   "source": [
    "#Average of ratings made before 280 days.\n",
    "df.loc[df[\"day_dif\"] <= 280, \"overall\"].mean()"
   ]
  },
  {
   "cell_type": "code",
   "execution_count": 15,
   "id": "3c8cfba5",
   "metadata": {
    "execution": {
     "iopub.execute_input": "2022-11-02T11:11:32.204799Z",
     "iopub.status.busy": "2022-11-02T11:11:32.204470Z",
     "iopub.status.idle": "2022-11-02T11:11:32.214064Z",
     "shell.execute_reply": "2022-11-02T11:11:32.212110Z"
    },
    "papermill": {
     "duration": 0.020862,
     "end_time": "2022-11-02T11:11:32.216592",
     "exception": false,
     "start_time": "2022-11-02T11:11:32.195730",
     "status": "completed"
    },
    "tags": []
   },
   "outputs": [
    {
     "data": {
      "text/plain": [
       "4.636140637775961"
      ]
     },
     "execution_count": 15,
     "metadata": {},
     "output_type": "execute_result"
    }
   ],
   "source": [
    "#Average of ratings made between 280 days and 430 days.\n",
    "df.loc[(df[\"day_dif\"] > 280) & (df[\"day_dif\"] <=430), \"overall\"].mean()"
   ]
  },
  {
   "cell_type": "code",
   "execution_count": 16,
   "id": "0497a6e9",
   "metadata": {
    "execution": {
     "iopub.execute_input": "2022-11-02T11:11:32.233795Z",
     "iopub.status.busy": "2022-11-02T11:11:32.233464Z",
     "iopub.status.idle": "2022-11-02T11:11:32.242399Z",
     "shell.execute_reply": "2022-11-02T11:11:32.240691Z"
    },
    "papermill": {
     "duration": 0.02086,
     "end_time": "2022-11-02T11:11:32.245172",
     "exception": false,
     "start_time": "2022-11-02T11:11:32.224312",
     "status": "completed"
    },
    "tags": []
   },
   "outputs": [
    {
     "data": {
      "text/plain": [
       "4.571661237785016"
      ]
     },
     "execution_count": 16,
     "metadata": {},
     "output_type": "execute_result"
    }
   ],
   "source": [
    "#Average of ratings made between 430 days and 600 days.\n",
    "df.loc[(df[\"day_dif\"] > 430) & (df[\"day_dif\"] <= 600), \"overall\"].mean()"
   ]
  },
  {
   "cell_type": "code",
   "execution_count": 17,
   "id": "62fbd4a6",
   "metadata": {
    "execution": {
     "iopub.execute_input": "2022-11-02T11:11:32.262302Z",
     "iopub.status.busy": "2022-11-02T11:11:32.261900Z",
     "iopub.status.idle": "2022-11-02T11:11:32.268467Z",
     "shell.execute_reply": "2022-11-02T11:11:32.267866Z"
    },
    "papermill": {
     "duration": 0.017479,
     "end_time": "2022-11-02T11:11:32.270191",
     "exception": false,
     "start_time": "2022-11-02T11:11:32.252712",
     "status": "completed"
    },
    "tags": []
   },
   "outputs": [
    {
     "data": {
      "text/plain": [
       "4.4462540716612375"
      ]
     },
     "execution_count": 17,
     "metadata": {},
     "output_type": "execute_result"
    }
   ],
   "source": [
    "#Average of ratings over 600 days.\n",
    "df.loc[(df[\"day_dif\"] > 600), \"overall\"].mean()"
   ]
  },
  {
   "cell_type": "markdown",
   "id": "114e54f5",
   "metadata": {
    "papermill": {
     "duration": 0.007259,
     "end_time": "2022-11-02T11:11:32.285100",
     "exception": false,
     "start_time": "2022-11-02T11:11:32.277841",
     "status": "completed"
    },
    "tags": []
   },
   "source": [
    "# Product Reviews"
   ]
  },
  {
   "cell_type": "code",
   "execution_count": 18,
   "id": "7de517c4",
   "metadata": {
    "execution": {
     "iopub.execute_input": "2022-11-02T11:11:32.302673Z",
     "iopub.status.busy": "2022-11-02T11:11:32.302370Z",
     "iopub.status.idle": "2022-11-02T11:11:32.307715Z",
     "shell.execute_reply": "2022-11-02T11:11:32.306343Z"
    },
    "papermill": {
     "duration": 0.017174,
     "end_time": "2022-11-02T11:11:32.310252",
     "exception": false,
     "start_time": "2022-11-02T11:11:32.293078",
     "status": "completed"
    },
    "tags": []
   },
   "outputs": [],
   "source": [
    "#The number of those who did not find the comment useful was calculated.\n",
    "df[\"helpful_no\"] = df[\"total_vote\"] - df[\"helpful_yes\"]"
   ]
  },
  {
   "cell_type": "code",
   "execution_count": 19,
   "id": "4ac4e8cc",
   "metadata": {
    "execution": {
     "iopub.execute_input": "2022-11-02T11:11:32.326836Z",
     "iopub.status.busy": "2022-11-02T11:11:32.326515Z",
     "iopub.status.idle": "2022-11-02T11:11:32.335568Z",
     "shell.execute_reply": "2022-11-02T11:11:32.333864Z"
    },
    "papermill": {
     "duration": 0.020264,
     "end_time": "2022-11-02T11:11:32.338150",
     "exception": false,
     "start_time": "2022-11-02T11:11:32.317886",
     "status": "completed"
    },
    "tags": []
   },
   "outputs": [
    {
     "data": {
      "text/plain": [
       "0      4674\n",
       "1       175\n",
       "2        43\n",
       "3         7\n",
       "27        2\n",
       "4         2\n",
       "6         2\n",
       "73        1\n",
       "8         1\n",
       "10        1\n",
       "68        1\n",
       "110       1\n",
       "183       1\n",
       "77        1\n",
       "126       1\n",
       "14        1\n",
       "9         1\n",
       "Name: helpful_no, dtype: int64"
      ]
     },
     "execution_count": 19,
     "metadata": {},
     "output_type": "execute_result"
    }
   ],
   "source": [
    "df[\"helpful_no\"].value_counts()"
   ]
  },
  {
   "cell_type": "code",
   "execution_count": 20,
   "id": "5eb7833d",
   "metadata": {
    "execution": {
     "iopub.execute_input": "2022-11-02T11:11:32.355252Z",
     "iopub.status.busy": "2022-11-02T11:11:32.354855Z",
     "iopub.status.idle": "2022-11-02T11:11:32.439156Z",
     "shell.execute_reply": "2022-11-02T11:11:32.437785Z"
    },
    "papermill": {
     "duration": 0.095306,
     "end_time": "2022-11-02T11:11:32.441361",
     "exception": false,
     "start_time": "2022-11-02T11:11:32.346055",
     "status": "completed"
    },
    "tags": []
   },
   "outputs": [],
   "source": [
    "#Scoring according to the difference between up and down\n",
    "def score_up_down_diff(up, down):\n",
    "    return up - down\n",
    "\n",
    "df[\"score_pos_neg_diff\"] = df.apply(lambda x: score_up_down_diff(x[\"helpful_yes\"],x[\"helpful_no\"]), axis=1 )"
   ]
  },
  {
   "cell_type": "code",
   "execution_count": 21,
   "id": "b14b6d1f",
   "metadata": {
    "execution": {
     "iopub.execute_input": "2022-11-02T11:11:32.458133Z",
     "iopub.status.busy": "2022-11-02T11:11:32.457791Z",
     "iopub.status.idle": "2022-11-02T11:11:32.543929Z",
     "shell.execute_reply": "2022-11-02T11:11:32.543002Z"
    },
    "papermill": {
     "duration": 0.097088,
     "end_time": "2022-11-02T11:11:32.546112",
     "exception": false,
     "start_time": "2022-11-02T11:11:32.449024",
     "status": "completed"
    },
    "tags": []
   },
   "outputs": [],
   "source": [
    "#It scores the comment by dividing the number of ups by the total number of votes.\n",
    "def score_average_rating(up, down):\n",
    "  if up + down == 0:\n",
    "    \n",
    "      return 0\n",
    "\n",
    "  return up / (up+down)\n",
    "\n",
    "df[\"score_average_rating\"] = df.apply(lambda x: score_average_rating(x[\"helpful_yes\"],x[\"helpful_no\"]), axis=1 )"
   ]
  },
  {
   "cell_type": "code",
   "execution_count": 22,
   "id": "0e5e03ec",
   "metadata": {
    "execution": {
     "iopub.execute_input": "2022-11-02T11:11:32.564281Z",
     "iopub.status.busy": "2022-11-02T11:11:32.563925Z",
     "iopub.status.idle": "2022-11-02T11:11:32.716415Z",
     "shell.execute_reply": "2022-11-02T11:11:32.715378Z"
    },
    "papermill": {
     "duration": 0.163731,
     "end_time": "2022-11-02T11:11:32.718595",
     "exception": false,
     "start_time": "2022-11-02T11:11:32.554864",
     "status": "completed"
    },
    "tags": []
   },
   "outputs": [],
   "source": [
    "\"\"\"\n",
    "     Calculate Wilson Lower Bound Score\n",
    "\n",
    "     - The lower limit of the confidence interval to be calculated for the Bernoulli parameter p is accepted as the WLB score.\n",
    "     - The score to be calculated is used for product ranking.\n",
    "     - Note:\n",
    "     If the scores are between 1-5, 1-3 are marked as negative, 4-5 as positive and can be made to conform to Bernoulli.\n",
    "     This brings with it some problems. For this reason, it is necessary to make a bayesian average rating.\n",
    "\n",
    "     parameters\n",
    "     ----------\n",
    "     up: int\n",
    "         up count\n",
    "     down: int\n",
    "         down count\n",
    "     confidence: float\n",
    "         confidence\n",
    "\n",
    "     Returns\n",
    "     -------\n",
    "     wilson score: float\n",
    "\n",
    "     \"\"\"\n",
    "def wilson_lower_bound(up, down, confidence=0.95):\n",
    "\n",
    "    n = up + down\n",
    "    if n == 0:\n",
    "        return 0 \n",
    "\n",
    "    z = st.norm.ppf(1 - (1 - confidence) / 2)\n",
    "    \n",
    "    phat = 1.0 * up / n\n",
    "    return (phat + z * z / (2 * n) - z * math.sqrt((phat * (1 - phat) + z * z / (4 * n)) / n)) / (1 + z * z / n)\n",
    "\n",
    "df[\"wilson_lower_bound\"] = df.apply(lambda x: wilson_lower_bound(x[\"helpful_yes\"],x[\"helpful_no\"]), axis=1 )"
   ]
  },
  {
   "cell_type": "code",
   "execution_count": 23,
   "id": "5e9d57db",
   "metadata": {
    "execution": {
     "iopub.execute_input": "2022-11-02T11:11:32.735522Z",
     "iopub.status.busy": "2022-11-02T11:11:32.735221Z",
     "iopub.status.idle": "2022-11-02T11:11:32.756488Z",
     "shell.execute_reply": "2022-11-02T11:11:32.755595Z"
    },
    "papermill": {
     "duration": 0.032529,
     "end_time": "2022-11-02T11:11:32.758848",
     "exception": false,
     "start_time": "2022-11-02T11:11:32.726319",
     "status": "completed"
    },
    "tags": []
   },
   "outputs": [
    {
     "data": {
      "text/html": [
       "<div>\n",
       "<style scoped>\n",
       "    .dataframe tbody tr th:only-of-type {\n",
       "        vertical-align: middle;\n",
       "    }\n",
       "\n",
       "    .dataframe tbody tr th {\n",
       "        vertical-align: top;\n",
       "    }\n",
       "\n",
       "    .dataframe thead th {\n",
       "        text-align: right;\n",
       "    }\n",
       "</style>\n",
       "<table border=\"1\" class=\"dataframe\">\n",
       "  <thead>\n",
       "    <tr style=\"text-align: right;\">\n",
       "      <th></th>\n",
       "      <th>reviewerID</th>\n",
       "      <th>asin</th>\n",
       "      <th>reviewerName</th>\n",
       "      <th>helpful</th>\n",
       "      <th>reviewText</th>\n",
       "      <th>overall</th>\n",
       "      <th>summary</th>\n",
       "      <th>unixReviewTime</th>\n",
       "      <th>reviewTime</th>\n",
       "      <th>day_diff</th>\n",
       "      <th>helpful_yes</th>\n",
       "      <th>total_vote</th>\n",
       "      <th>day_dif</th>\n",
       "      <th>helpful_no</th>\n",
       "      <th>score_pos_neg_diff</th>\n",
       "      <th>score_average_rating</th>\n",
       "      <th>wilson_lower_bound</th>\n",
       "    </tr>\n",
       "  </thead>\n",
       "  <tbody>\n",
       "    <tr>\n",
       "      <th>2031</th>\n",
       "      <td>A12B7ZMXFI6IXY</td>\n",
       "      <td>B007WTAJTO</td>\n",
       "      <td>Hyoun Kim \"Faluzure\"</td>\n",
       "      <td>[1952, 2020]</td>\n",
       "      <td>[[ UPDATE - 6/19/2014 ]]So my lovely wife boug...</td>\n",
       "      <td>5.00000</td>\n",
       "      <td>UPDATED - Great w/ Galaxy S4 &amp; Galaxy Tab 4 10...</td>\n",
       "      <td>1367366400</td>\n",
       "      <td>2013-01-05</td>\n",
       "      <td>702</td>\n",
       "      <td>1952</td>\n",
       "      <td>2020</td>\n",
       "      <td>701.00000</td>\n",
       "      <td>68</td>\n",
       "      <td>1884</td>\n",
       "      <td>0.96634</td>\n",
       "      <td>0.95754</td>\n",
       "    </tr>\n",
       "    <tr>\n",
       "      <th>3449</th>\n",
       "      <td>AOEAD7DPLZE53</td>\n",
       "      <td>B007WTAJTO</td>\n",
       "      <td>NLee the Engineer</td>\n",
       "      <td>[1428, 1505]</td>\n",
       "      <td>I have tested dozens of SDHC and micro-SDHC ca...</td>\n",
       "      <td>5.00000</td>\n",
       "      <td>Top of the class among all (budget-priced) mic...</td>\n",
       "      <td>1348617600</td>\n",
       "      <td>2012-09-26</td>\n",
       "      <td>803</td>\n",
       "      <td>1428</td>\n",
       "      <td>1505</td>\n",
       "      <td>802.00000</td>\n",
       "      <td>77</td>\n",
       "      <td>1351</td>\n",
       "      <td>0.94884</td>\n",
       "      <td>0.93652</td>\n",
       "    </tr>\n",
       "    <tr>\n",
       "      <th>4212</th>\n",
       "      <td>AVBMZZAFEKO58</td>\n",
       "      <td>B007WTAJTO</td>\n",
       "      <td>SkincareCEO</td>\n",
       "      <td>[1568, 1694]</td>\n",
       "      <td>NOTE:  please read the last update (scroll to ...</td>\n",
       "      <td>1.00000</td>\n",
       "      <td>1 Star reviews - Micro SDXC card unmounts itse...</td>\n",
       "      <td>1375660800</td>\n",
       "      <td>2013-05-08</td>\n",
       "      <td>579</td>\n",
       "      <td>1568</td>\n",
       "      <td>1694</td>\n",
       "      <td>578.00000</td>\n",
       "      <td>126</td>\n",
       "      <td>1442</td>\n",
       "      <td>0.92562</td>\n",
       "      <td>0.91214</td>\n",
       "    </tr>\n",
       "    <tr>\n",
       "      <th>317</th>\n",
       "      <td>A1ZQAQFYSXL5MQ</td>\n",
       "      <td>B007WTAJTO</td>\n",
       "      <td>Amazon Customer \"Kelly\"</td>\n",
       "      <td>[422, 495]</td>\n",
       "      <td>If your card gets hot enough to be painful, it...</td>\n",
       "      <td>1.00000</td>\n",
       "      <td>Warning, read this!</td>\n",
       "      <td>1346544000</td>\n",
       "      <td>2012-02-09</td>\n",
       "      <td>1033</td>\n",
       "      <td>422</td>\n",
       "      <td>495</td>\n",
       "      <td>1032.00000</td>\n",
       "      <td>73</td>\n",
       "      <td>349</td>\n",
       "      <td>0.85253</td>\n",
       "      <td>0.81858</td>\n",
       "    </tr>\n",
       "    <tr>\n",
       "      <th>4672</th>\n",
       "      <td>A2DKQQIZ793AV5</td>\n",
       "      <td>B007WTAJTO</td>\n",
       "      <td>Twister</td>\n",
       "      <td>[45, 49]</td>\n",
       "      <td>Sandisk announcement of the first 128GB micro ...</td>\n",
       "      <td>5.00000</td>\n",
       "      <td>Super high capacity!!!  Excellent price (on Am...</td>\n",
       "      <td>1394150400</td>\n",
       "      <td>2014-07-03</td>\n",
       "      <td>158</td>\n",
       "      <td>45</td>\n",
       "      <td>49</td>\n",
       "      <td>157.00000</td>\n",
       "      <td>4</td>\n",
       "      <td>41</td>\n",
       "      <td>0.91837</td>\n",
       "      <td>0.80811</td>\n",
       "    </tr>\n",
       "    <tr>\n",
       "      <th>1835</th>\n",
       "      <td>A1J6VSUM80UAF8</td>\n",
       "      <td>B007WTAJTO</td>\n",
       "      <td>goconfigure</td>\n",
       "      <td>[60, 68]</td>\n",
       "      <td>Bought from BestBuy online the day it was anno...</td>\n",
       "      <td>5.00000</td>\n",
       "      <td>I own it</td>\n",
       "      <td>1393545600</td>\n",
       "      <td>2014-02-28</td>\n",
       "      <td>283</td>\n",
       "      <td>60</td>\n",
       "      <td>68</td>\n",
       "      <td>282.00000</td>\n",
       "      <td>8</td>\n",
       "      <td>52</td>\n",
       "      <td>0.88235</td>\n",
       "      <td>0.78465</td>\n",
       "    </tr>\n",
       "    <tr>\n",
       "      <th>3981</th>\n",
       "      <td>A1K91XXQ6ZEBQR</td>\n",
       "      <td>B007WTAJTO</td>\n",
       "      <td>R. Sutton, Jr. \"RWSynergy\"</td>\n",
       "      <td>[112, 139]</td>\n",
       "      <td>The last few days I have been diligently shopp...</td>\n",
       "      <td>5.00000</td>\n",
       "      <td>Resolving confusion between \"Mobile Ultra\" and...</td>\n",
       "      <td>1350864000</td>\n",
       "      <td>2012-10-22</td>\n",
       "      <td>777</td>\n",
       "      <td>112</td>\n",
       "      <td>139</td>\n",
       "      <td>776.00000</td>\n",
       "      <td>27</td>\n",
       "      <td>85</td>\n",
       "      <td>0.80576</td>\n",
       "      <td>0.73214</td>\n",
       "    </tr>\n",
       "    <tr>\n",
       "      <th>3807</th>\n",
       "      <td>AFGRMORWY2QNX</td>\n",
       "      <td>B007WTAJTO</td>\n",
       "      <td>R. Heisler</td>\n",
       "      <td>[22, 25]</td>\n",
       "      <td>I bought this card to replace a lost 16 gig in...</td>\n",
       "      <td>3.00000</td>\n",
       "      <td>Good buy for the money but wait, I had an issue!</td>\n",
       "      <td>1361923200</td>\n",
       "      <td>2013-02-27</td>\n",
       "      <td>649</td>\n",
       "      <td>22</td>\n",
       "      <td>25</td>\n",
       "      <td>648.00000</td>\n",
       "      <td>3</td>\n",
       "      <td>19</td>\n",
       "      <td>0.88000</td>\n",
       "      <td>0.70044</td>\n",
       "    </tr>\n",
       "    <tr>\n",
       "      <th>4306</th>\n",
       "      <td>AOHXKM5URSKAB</td>\n",
       "      <td>B007WTAJTO</td>\n",
       "      <td>Stellar Eller</td>\n",
       "      <td>[51, 65]</td>\n",
       "      <td>While I got this card as a \"deal of the day\" o...</td>\n",
       "      <td>5.00000</td>\n",
       "      <td>Awesome Card!</td>\n",
       "      <td>1339200000</td>\n",
       "      <td>2012-09-06</td>\n",
       "      <td>823</td>\n",
       "      <td>51</td>\n",
       "      <td>65</td>\n",
       "      <td>822.00000</td>\n",
       "      <td>14</td>\n",
       "      <td>37</td>\n",
       "      <td>0.78462</td>\n",
       "      <td>0.67033</td>\n",
       "    </tr>\n",
       "    <tr>\n",
       "      <th>4596</th>\n",
       "      <td>A1WTQUOQ4WG9AI</td>\n",
       "      <td>B007WTAJTO</td>\n",
       "      <td>Tom Henriksen \"Doggy Diner\"</td>\n",
       "      <td>[82, 109]</td>\n",
       "      <td>Hi:I ordered two card and they arrived the nex...</td>\n",
       "      <td>1.00000</td>\n",
       "      <td>Designed incompatibility/Don't support SanDisk</td>\n",
       "      <td>1348272000</td>\n",
       "      <td>2012-09-22</td>\n",
       "      <td>807</td>\n",
       "      <td>82</td>\n",
       "      <td>109</td>\n",
       "      <td>806.00000</td>\n",
       "      <td>27</td>\n",
       "      <td>55</td>\n",
       "      <td>0.75229</td>\n",
       "      <td>0.66359</td>\n",
       "    </tr>\n",
       "  </tbody>\n",
       "</table>\n",
       "</div>"
      ],
      "text/plain": [
       "          reviewerID        asin                 reviewerName       helpful                                         reviewText  overall                                            summary  unixReviewTime reviewTime  day_diff  helpful_yes  total_vote    day_dif  helpful_no  score_pos_neg_diff  score_average_rating  wilson_lower_bound\n",
       "2031  A12B7ZMXFI6IXY  B007WTAJTO         Hyoun Kim \"Faluzure\"  [1952, 2020]  [[ UPDATE - 6/19/2014 ]]So my lovely wife boug...  5.00000  UPDATED - Great w/ Galaxy S4 & Galaxy Tab 4 10...      1367366400 2013-01-05       702         1952        2020  701.00000          68                1884               0.96634             0.95754\n",
       "3449   AOEAD7DPLZE53  B007WTAJTO            NLee the Engineer  [1428, 1505]  I have tested dozens of SDHC and micro-SDHC ca...  5.00000  Top of the class among all (budget-priced) mic...      1348617600 2012-09-26       803         1428        1505  802.00000          77                1351               0.94884             0.93652\n",
       "4212   AVBMZZAFEKO58  B007WTAJTO                  SkincareCEO  [1568, 1694]  NOTE:  please read the last update (scroll to ...  1.00000  1 Star reviews - Micro SDXC card unmounts itse...      1375660800 2013-05-08       579         1568        1694  578.00000         126                1442               0.92562             0.91214\n",
       "317   A1ZQAQFYSXL5MQ  B007WTAJTO      Amazon Customer \"Kelly\"    [422, 495]  If your card gets hot enough to be painful, it...  1.00000                                Warning, read this!      1346544000 2012-02-09      1033          422         495 1032.00000          73                 349               0.85253             0.81858\n",
       "4672  A2DKQQIZ793AV5  B007WTAJTO                      Twister      [45, 49]  Sandisk announcement of the first 128GB micro ...  5.00000  Super high capacity!!!  Excellent price (on Am...      1394150400 2014-07-03       158           45          49  157.00000           4                  41               0.91837             0.80811\n",
       "1835  A1J6VSUM80UAF8  B007WTAJTO                  goconfigure      [60, 68]  Bought from BestBuy online the day it was anno...  5.00000                                           I own it      1393545600 2014-02-28       283           60          68  282.00000           8                  52               0.88235             0.78465\n",
       "3981  A1K91XXQ6ZEBQR  B007WTAJTO   R. Sutton, Jr. \"RWSynergy\"    [112, 139]  The last few days I have been diligently shopp...  5.00000  Resolving confusion between \"Mobile Ultra\" and...      1350864000 2012-10-22       777          112         139  776.00000          27                  85               0.80576             0.73214\n",
       "3807   AFGRMORWY2QNX  B007WTAJTO                   R. Heisler      [22, 25]  I bought this card to replace a lost 16 gig in...  3.00000   Good buy for the money but wait, I had an issue!      1361923200 2013-02-27       649           22          25  648.00000           3                  19               0.88000             0.70044\n",
       "4306   AOHXKM5URSKAB  B007WTAJTO                Stellar Eller      [51, 65]  While I got this card as a \"deal of the day\" o...  5.00000                                      Awesome Card!      1339200000 2012-09-06       823           51          65  822.00000          14                  37               0.78462             0.67033\n",
       "4596  A1WTQUOQ4WG9AI  B007WTAJTO  Tom Henriksen \"Doggy Diner\"     [82, 109]  Hi:I ordered two card and they arrived the nex...  1.00000     Designed incompatibility/Don't support SanDisk      1348272000 2012-09-22       807           82         109  806.00000          27                  55               0.75229             0.66359"
      ]
     },
     "execution_count": 23,
     "metadata": {},
     "output_type": "execute_result"
    }
   ],
   "source": [
    "df.sort_values(by = \"wilson_lower_bound\", ascending = False).head(10)"
   ]
  }
 ],
 "metadata": {
  "kernelspec": {
   "display_name": "Python 3",
   "language": "python",
   "name": "python3"
  },
  "language_info": {
   "codemirror_mode": {
    "name": "ipython",
    "version": 3
   },
   "file_extension": ".py",
   "mimetype": "text/x-python",
   "name": "python",
   "nbconvert_exporter": "python",
   "pygments_lexer": "ipython3",
   "version": "3.7.12"
  },
  "papermill": {
   "default_parameters": {},
   "duration": 10.855138,
   "end_time": "2022-11-02T11:11:33.489465",
   "environment_variables": {},
   "exception": null,
   "input_path": "__notebook__.ipynb",
   "output_path": "__notebook__.ipynb",
   "parameters": {},
   "start_time": "2022-11-02T11:11:22.634327",
   "version": "2.3.4"
  }
 },
 "nbformat": 4,
 "nbformat_minor": 5
}
