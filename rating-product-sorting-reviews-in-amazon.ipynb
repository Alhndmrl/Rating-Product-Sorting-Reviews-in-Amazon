{
 "cells": [
  {
   "cell_type": "markdown",
   "id": "9b6aa92a",
   "metadata": {
    "papermill": {
     "duration": 0.009546,
     "end_time": "2022-11-02T11:38:09.783072",
     "exception": false,
     "start_time": "2022-11-02T11:38:09.773526",
     "status": "completed"
    },
    "tags": []
   },
   "source": [
    "# Rating Product & Sorting Reviews in Amazon"
   ]
  },
  {
   "cell_type": "markdown",
   "id": "b0fcb4a0",
   "metadata": {
    "papermill": {
     "duration": 0.007866,
     "end_time": "2022-11-02T11:38:09.799338",
     "exception": false,
     "start_time": "2022-11-02T11:38:09.791472",
     "status": "completed"
    },
    "tags": []
   },
   "source": [
    "## Business Problem"
   ]
  },
  {
   "cell_type": "markdown",
   "id": "8150ef12",
   "metadata": {
    "papermill": {
     "duration": 0.007809,
     "end_time": "2022-11-02T11:38:09.815240",
     "exception": false,
     "start_time": "2022-11-02T11:38:09.807431",
     "status": "completed"
    },
    "tags": []
   },
   "source": [
    "One of the most important problems in e-commerce is the correct calculation of the points given to the products after sales. The solution to this problem means providing greater customer satisfaction for the e-commerce site, prominence of the product for the sellers and a seamless shopping experience for the buyers. Another problem is the correct ordering of the comments given to the products. Since misleading comments will directly affect the sale of the product, it will cause both financial loss and loss of customers. In the solution of these 2 basic problems, while the e-commerce site and the sellers will increase their sales, the customers will complete the purchasing journey without any problems."
   ]
  },
  {
   "cell_type": "markdown",
   "id": "922d7940",
   "metadata": {
    "papermill": {
     "duration": 0.0078,
     "end_time": "2022-11-02T11:38:09.831100",
     "exception": false,
     "start_time": "2022-11-02T11:38:09.823300",
     "status": "completed"
    },
    "tags": []
   },
   "source": [
    "### Dataset Story\n"
   ]
  },
  {
   "cell_type": "markdown",
   "id": "0d24f96c",
   "metadata": {
    "papermill": {
     "duration": 0.007832,
     "end_time": "2022-11-02T11:38:09.847046",
     "exception": false,
     "start_time": "2022-11-02T11:38:09.839214",
     "status": "completed"
    },
    "tags": []
   },
   "source": [
    "This dataset, which includes Amazon product data, includes product categories and various metadata. The product with the most reviews in the electronics category has user ratings and reviews.\n",
    "\n",
    "**reviewerID:** User ID\n",
    "\n",
    "**asin:** Product ID\n",
    "\n",
    "**reviewerName:** Username\n",
    "\n",
    "**Helpful:** Useful evaluation rating\n",
    "\n",
    "**reviewText:** Evaluation\n",
    "\n",
    "**overall:** Product rating\n",
    "\n",
    "**summary:** Evaluation summary\n",
    "\n",
    "**unixReviewTime:** Evaluation time\n",
    "\n",
    "**reviewTime:** Review time Raw\n",
    "\n",
    "**day_diff:** Number of days since evaluation\n",
    "\n",
    "**helpful_yes:** Number of times the review was found helpful\n",
    "\n",
    "**total_vote:** Number of votes given to the review"
   ]
  },
  {
   "cell_type": "code",
   "execution_count": 1,
   "id": "854fe6e3",
   "metadata": {
    "execution": {
     "iopub.execute_input": "2022-11-02T11:38:09.867632Z",
     "iopub.status.busy": "2022-11-02T11:38:09.866594Z",
     "iopub.status.idle": "2022-11-02T11:38:10.889217Z",
     "shell.execute_reply": "2022-11-02T11:38:10.888195Z"
    },
    "papermill": {
     "duration": 1.036852,
     "end_time": "2022-11-02T11:38:10.891903",
     "exception": false,
     "start_time": "2022-11-02T11:38:09.855051",
     "status": "completed"
    },
    "tags": []
   },
   "outputs": [],
   "source": [
    "#Necessary libraries are imported.\n",
    "import pandas as pd\n",
    "import math\n",
    "import scipy.stats as st\n",
    "import datetime as dt\n",
    "\n",
    "from sklearn.preprocessing import MinMaxScaler\n",
    "pd.set_option('display.max_columns', None)\n",
    "pd.set_option('display.expand_frame_repr', False)\n",
    "pd.set_option('display.float_format', lambda x: '%.5f' % x)"
   ]
  },
  {
   "cell_type": "code",
   "execution_count": 2,
   "id": "fa0d7f5a",
   "metadata": {
    "execution": {
     "iopub.execute_input": "2022-11-02T11:38:10.909899Z",
     "iopub.status.busy": "2022-11-02T11:38:10.909461Z",
     "iopub.status.idle": "2022-11-02T11:38:10.975904Z",
     "shell.execute_reply": "2022-11-02T11:38:10.974829Z"
    },
    "papermill": {
     "duration": 0.078945,
     "end_time": "2022-11-02T11:38:10.979209",
     "exception": false,
     "start_time": "2022-11-02T11:38:10.900264",
     "status": "completed"
    },
    "tags": []
   },
   "outputs": [],
   "source": [
    "df_ = pd.read_csv(\"../input/amazon-review/amazon_review.csv\")\n"
   ]
  },
  {
   "cell_type": "code",
   "execution_count": 3,
   "id": "1975916d",
   "metadata": {
    "execution": {
     "iopub.execute_input": "2022-11-02T11:38:10.997117Z",
     "iopub.status.busy": "2022-11-02T11:38:10.996697Z",
     "iopub.status.idle": "2022-11-02T11:38:11.002837Z",
     "shell.execute_reply": "2022-11-02T11:38:11.001773Z"
    },
    "papermill": {
     "duration": 0.017852,
     "end_time": "2022-11-02T11:38:11.005113",
     "exception": false,
     "start_time": "2022-11-02T11:38:10.987261",
     "status": "completed"
    },
    "tags": []
   },
   "outputs": [],
   "source": [
    "df = df_.copy()\n"
   ]
  },
  {
   "cell_type": "markdown",
   "id": "05c529d6",
   "metadata": {
    "papermill": {
     "duration": 0.00803,
     "end_time": "2022-11-02T11:38:11.021489",
     "exception": false,
     "start_time": "2022-11-02T11:38:11.013459",
     "status": "completed"
    },
    "tags": []
   },
   "source": [
    "# Data Overview"
   ]
  },
  {
   "cell_type": "code",
   "execution_count": 4,
   "id": "d01d6142",
   "metadata": {
    "execution": {
     "iopub.execute_input": "2022-11-02T11:38:11.039763Z",
     "iopub.status.busy": "2022-11-02T11:38:11.039309Z",
     "iopub.status.idle": "2022-11-02T11:38:11.063443Z",
     "shell.execute_reply": "2022-11-02T11:38:11.062296Z"
    },
    "papermill": {
     "duration": 0.036226,
     "end_time": "2022-11-02T11:38:11.066087",
     "exception": false,
     "start_time": "2022-11-02T11:38:11.029861",
     "status": "completed"
    },
    "tags": []
   },
   "outputs": [
    {
     "data": {
      "text/html": [
       "<div>\n",
       "<style scoped>\n",
       "    .dataframe tbody tr th:only-of-type {\n",
       "        vertical-align: middle;\n",
       "    }\n",
       "\n",
       "    .dataframe tbody tr th {\n",
       "        vertical-align: top;\n",
       "    }\n",
       "\n",
       "    .dataframe thead th {\n",
       "        text-align: right;\n",
       "    }\n",
       "</style>\n",
       "<table border=\"1\" class=\"dataframe\">\n",
       "  <thead>\n",
       "    <tr style=\"text-align: right;\">\n",
       "      <th></th>\n",
       "      <th>reviewerID</th>\n",
       "      <th>asin</th>\n",
       "      <th>reviewerName</th>\n",
       "      <th>helpful</th>\n",
       "      <th>reviewText</th>\n",
       "      <th>overall</th>\n",
       "      <th>summary</th>\n",
       "      <th>unixReviewTime</th>\n",
       "      <th>reviewTime</th>\n",
       "      <th>day_diff</th>\n",
       "      <th>helpful_yes</th>\n",
       "      <th>total_vote</th>\n",
       "    </tr>\n",
       "  </thead>\n",
       "  <tbody>\n",
       "    <tr>\n",
       "      <th>0</th>\n",
       "      <td>A3SBTW3WS4IQSN</td>\n",
       "      <td>B007WTAJTO</td>\n",
       "      <td>NaN</td>\n",
       "      <td>[0, 0]</td>\n",
       "      <td>No issues.</td>\n",
       "      <td>4.00000</td>\n",
       "      <td>Four Stars</td>\n",
       "      <td>1406073600</td>\n",
       "      <td>2014-07-23</td>\n",
       "      <td>138</td>\n",
       "      <td>0</td>\n",
       "      <td>0</td>\n",
       "    </tr>\n",
       "    <tr>\n",
       "      <th>1</th>\n",
       "      <td>A18K1ODH1I2MVB</td>\n",
       "      <td>B007WTAJTO</td>\n",
       "      <td>0mie</td>\n",
       "      <td>[0, 0]</td>\n",
       "      <td>Purchased this for my device, it worked as adv...</td>\n",
       "      <td>5.00000</td>\n",
       "      <td>MOAR SPACE!!!</td>\n",
       "      <td>1382659200</td>\n",
       "      <td>2013-10-25</td>\n",
       "      <td>409</td>\n",
       "      <td>0</td>\n",
       "      <td>0</td>\n",
       "    </tr>\n",
       "    <tr>\n",
       "      <th>2</th>\n",
       "      <td>A2FII3I2MBMUIA</td>\n",
       "      <td>B007WTAJTO</td>\n",
       "      <td>1K3</td>\n",
       "      <td>[0, 0]</td>\n",
       "      <td>it works as expected. I should have sprung for...</td>\n",
       "      <td>4.00000</td>\n",
       "      <td>nothing to really say....</td>\n",
       "      <td>1356220800</td>\n",
       "      <td>2012-12-23</td>\n",
       "      <td>715</td>\n",
       "      <td>0</td>\n",
       "      <td>0</td>\n",
       "    </tr>\n",
       "    <tr>\n",
       "      <th>3</th>\n",
       "      <td>A3H99DFEG68SR</td>\n",
       "      <td>B007WTAJTO</td>\n",
       "      <td>1m2</td>\n",
       "      <td>[0, 0]</td>\n",
       "      <td>This think has worked out great.Had a diff. br...</td>\n",
       "      <td>5.00000</td>\n",
       "      <td>Great buy at this price!!!  *** UPDATE</td>\n",
       "      <td>1384992000</td>\n",
       "      <td>2013-11-21</td>\n",
       "      <td>382</td>\n",
       "      <td>0</td>\n",
       "      <td>0</td>\n",
       "    </tr>\n",
       "    <tr>\n",
       "      <th>4</th>\n",
       "      <td>A375ZM4U047O79</td>\n",
       "      <td>B007WTAJTO</td>\n",
       "      <td>2&amp;amp;1/2Men</td>\n",
       "      <td>[0, 0]</td>\n",
       "      <td>Bought it with Retail Packaging, arrived legit...</td>\n",
       "      <td>5.00000</td>\n",
       "      <td>best deal around</td>\n",
       "      <td>1373673600</td>\n",
       "      <td>2013-07-13</td>\n",
       "      <td>513</td>\n",
       "      <td>0</td>\n",
       "      <td>0</td>\n",
       "    </tr>\n",
       "  </tbody>\n",
       "</table>\n",
       "</div>"
      ],
      "text/plain": [
       "       reviewerID        asin  reviewerName helpful                                         reviewText  overall                                 summary  unixReviewTime  reviewTime  day_diff  helpful_yes  total_vote\n",
       "0  A3SBTW3WS4IQSN  B007WTAJTO           NaN  [0, 0]                                         No issues.  4.00000                              Four Stars      1406073600  2014-07-23       138            0           0\n",
       "1  A18K1ODH1I2MVB  B007WTAJTO          0mie  [0, 0]  Purchased this for my device, it worked as adv...  5.00000                           MOAR SPACE!!!      1382659200  2013-10-25       409            0           0\n",
       "2  A2FII3I2MBMUIA  B007WTAJTO           1K3  [0, 0]  it works as expected. I should have sprung for...  4.00000               nothing to really say....      1356220800  2012-12-23       715            0           0\n",
       "3   A3H99DFEG68SR  B007WTAJTO           1m2  [0, 0]  This think has worked out great.Had a diff. br...  5.00000  Great buy at this price!!!  *** UPDATE      1384992000  2013-11-21       382            0           0\n",
       "4  A375ZM4U047O79  B007WTAJTO  2&amp;1/2Men  [0, 0]  Bought it with Retail Packaging, arrived legit...  5.00000                        best deal around      1373673600  2013-07-13       513            0           0"
      ]
     },
     "execution_count": 4,
     "metadata": {},
     "output_type": "execute_result"
    }
   ],
   "source": [
    "#The first 5 rows of the dataset were looked at.\n",
    "df.head()"
   ]
  },
  {
   "cell_type": "code",
   "execution_count": 5,
   "id": "e1dda4e6",
   "metadata": {
    "execution": {
     "iopub.execute_input": "2022-11-02T11:38:11.085775Z",
     "iopub.status.busy": "2022-11-02T11:38:11.084621Z",
     "iopub.status.idle": "2022-11-02T11:38:11.101144Z",
     "shell.execute_reply": "2022-11-02T11:38:11.099946Z"
    },
    "papermill": {
     "duration": 0.028773,
     "end_time": "2022-11-02T11:38:11.103502",
     "exception": false,
     "start_time": "2022-11-02T11:38:11.074729",
     "status": "completed"
    },
    "tags": []
   },
   "outputs": [
    {
     "data": {
      "text/html": [
       "<div>\n",
       "<style scoped>\n",
       "    .dataframe tbody tr th:only-of-type {\n",
       "        vertical-align: middle;\n",
       "    }\n",
       "\n",
       "    .dataframe tbody tr th {\n",
       "        vertical-align: top;\n",
       "    }\n",
       "\n",
       "    .dataframe thead th {\n",
       "        text-align: right;\n",
       "    }\n",
       "</style>\n",
       "<table border=\"1\" class=\"dataframe\">\n",
       "  <thead>\n",
       "    <tr style=\"text-align: right;\">\n",
       "      <th></th>\n",
       "      <th>reviewerID</th>\n",
       "      <th>asin</th>\n",
       "      <th>reviewerName</th>\n",
       "      <th>helpful</th>\n",
       "      <th>reviewText</th>\n",
       "      <th>overall</th>\n",
       "      <th>summary</th>\n",
       "      <th>unixReviewTime</th>\n",
       "      <th>reviewTime</th>\n",
       "      <th>day_diff</th>\n",
       "      <th>helpful_yes</th>\n",
       "      <th>total_vote</th>\n",
       "    </tr>\n",
       "  </thead>\n",
       "  <tbody>\n",
       "    <tr>\n",
       "      <th>4910</th>\n",
       "      <td>A2LBMKXRM5H2W9</td>\n",
       "      <td>B007WTAJTO</td>\n",
       "      <td>ZM \"J\"</td>\n",
       "      <td>[0, 0]</td>\n",
       "      <td>I bought this Sandisk 16GB Class 10 to use wit...</td>\n",
       "      <td>1.00000</td>\n",
       "      <td>Do not waste your money.</td>\n",
       "      <td>1374537600</td>\n",
       "      <td>2013-07-23</td>\n",
       "      <td>503</td>\n",
       "      <td>0</td>\n",
       "      <td>0</td>\n",
       "    </tr>\n",
       "    <tr>\n",
       "      <th>4911</th>\n",
       "      <td>ALGDLRUI1ZPCS</td>\n",
       "      <td>B007WTAJTO</td>\n",
       "      <td>Zo</td>\n",
       "      <td>[0, 0]</td>\n",
       "      <td>Used this for extending the capabilities of my...</td>\n",
       "      <td>5.00000</td>\n",
       "      <td>Great item!</td>\n",
       "      <td>1377129600</td>\n",
       "      <td>2013-08-22</td>\n",
       "      <td>473</td>\n",
       "      <td>0</td>\n",
       "      <td>0</td>\n",
       "    </tr>\n",
       "    <tr>\n",
       "      <th>4912</th>\n",
       "      <td>A2MR1NI0ENW2AD</td>\n",
       "      <td>B007WTAJTO</td>\n",
       "      <td>Z S Liske</td>\n",
       "      <td>[0, 0]</td>\n",
       "      <td>Great card that is very fast and reliable. It ...</td>\n",
       "      <td>5.00000</td>\n",
       "      <td>Fast and reliable memory card</td>\n",
       "      <td>1396224000</td>\n",
       "      <td>2014-03-31</td>\n",
       "      <td>252</td>\n",
       "      <td>0</td>\n",
       "      <td>0</td>\n",
       "    </tr>\n",
       "    <tr>\n",
       "      <th>4913</th>\n",
       "      <td>A37E6P3DSO9QJD</td>\n",
       "      <td>B007WTAJTO</td>\n",
       "      <td>Z Taylor</td>\n",
       "      <td>[0, 0]</td>\n",
       "      <td>Good amount of space for the stuff I want to d...</td>\n",
       "      <td>5.00000</td>\n",
       "      <td>Great little card</td>\n",
       "      <td>1379289600</td>\n",
       "      <td>2013-09-16</td>\n",
       "      <td>448</td>\n",
       "      <td>0</td>\n",
       "      <td>0</td>\n",
       "    </tr>\n",
       "    <tr>\n",
       "      <th>4914</th>\n",
       "      <td>A8KGFTFQ86IBR</td>\n",
       "      <td>B007WTAJTO</td>\n",
       "      <td>Zza</td>\n",
       "      <td>[0, 0]</td>\n",
       "      <td>I've heard bad things about this 64gb Micro SD...</td>\n",
       "      <td>5.00000</td>\n",
       "      <td>So far so good.</td>\n",
       "      <td>1388620800</td>\n",
       "      <td>2014-02-01</td>\n",
       "      <td>310</td>\n",
       "      <td>0</td>\n",
       "      <td>0</td>\n",
       "    </tr>\n",
       "  </tbody>\n",
       "</table>\n",
       "</div>"
      ],
      "text/plain": [
       "          reviewerID        asin reviewerName helpful                                         reviewText  overall                        summary  unixReviewTime  reviewTime  day_diff  helpful_yes  total_vote\n",
       "4910  A2LBMKXRM5H2W9  B007WTAJTO       ZM \"J\"  [0, 0]  I bought this Sandisk 16GB Class 10 to use wit...  1.00000       Do not waste your money.      1374537600  2013-07-23       503            0           0\n",
       "4911   ALGDLRUI1ZPCS  B007WTAJTO           Zo  [0, 0]  Used this for extending the capabilities of my...  5.00000                    Great item!      1377129600  2013-08-22       473            0           0\n",
       "4912  A2MR1NI0ENW2AD  B007WTAJTO    Z S Liske  [0, 0]  Great card that is very fast and reliable. It ...  5.00000  Fast and reliable memory card      1396224000  2014-03-31       252            0           0\n",
       "4913  A37E6P3DSO9QJD  B007WTAJTO     Z Taylor  [0, 0]  Good amount of space for the stuff I want to d...  5.00000              Great little card      1379289600  2013-09-16       448            0           0\n",
       "4914   A8KGFTFQ86IBR  B007WTAJTO          Zza  [0, 0]  I've heard bad things about this 64gb Micro SD...  5.00000                So far so good.      1388620800  2014-02-01       310            0           0"
      ]
     },
     "execution_count": 5,
     "metadata": {},
     "output_type": "execute_result"
    }
   ],
   "source": [
    "#The last 5 rows of the dataset were viewed.\n",
    "df.tail()"
   ]
  },
  {
   "cell_type": "code",
   "execution_count": 6,
   "id": "cb71e487",
   "metadata": {
    "execution": {
     "iopub.execute_input": "2022-11-02T11:38:11.123329Z",
     "iopub.status.busy": "2022-11-02T11:38:11.122326Z",
     "iopub.status.idle": "2022-11-02T11:38:11.149130Z",
     "shell.execute_reply": "2022-11-02T11:38:11.147896Z"
    },
    "papermill": {
     "duration": 0.039769,
     "end_time": "2022-11-02T11:38:11.151969",
     "exception": false,
     "start_time": "2022-11-02T11:38:11.112200",
     "status": "completed"
    },
    "tags": []
   },
   "outputs": [
    {
     "name": "stdout",
     "output_type": "stream",
     "text": [
      "<class 'pandas.core.frame.DataFrame'>\n",
      "RangeIndex: 4915 entries, 0 to 4914\n",
      "Data columns (total 12 columns):\n",
      " #   Column          Non-Null Count  Dtype  \n",
      "---  ------          --------------  -----  \n",
      " 0   reviewerID      4915 non-null   object \n",
      " 1   asin            4915 non-null   object \n",
      " 2   reviewerName    4914 non-null   object \n",
      " 3   helpful         4915 non-null   object \n",
      " 4   reviewText      4914 non-null   object \n",
      " 5   overall         4915 non-null   float64\n",
      " 6   summary         4915 non-null   object \n",
      " 7   unixReviewTime  4915 non-null   int64  \n",
      " 8   reviewTime      4915 non-null   object \n",
      " 9   day_diff        4915 non-null   int64  \n",
      " 10  helpful_yes     4915 non-null   int64  \n",
      " 11  total_vote      4915 non-null   int64  \n",
      "dtypes: float64(1), int64(4), object(7)\n",
      "memory usage: 460.9+ KB\n"
     ]
    }
   ],
   "source": [
    "#Variable types and numbers of the data set were examined.\n",
    "df.info()"
   ]
  },
  {
   "cell_type": "code",
   "execution_count": 7,
   "id": "fa8cfc4d",
   "metadata": {
    "execution": {
     "iopub.execute_input": "2022-11-02T11:38:11.171270Z",
     "iopub.status.busy": "2022-11-02T11:38:11.170843Z",
     "iopub.status.idle": "2022-11-02T11:38:11.181923Z",
     "shell.execute_reply": "2022-11-02T11:38:11.181077Z"
    },
    "papermill": {
     "duration": 0.023284,
     "end_time": "2022-11-02T11:38:11.184110",
     "exception": false,
     "start_time": "2022-11-02T11:38:11.160826",
     "status": "completed"
    },
    "tags": []
   },
   "outputs": [
    {
     "data": {
      "text/plain": [
       "reviewerID        0\n",
       "asin              0\n",
       "reviewerName      1\n",
       "helpful           0\n",
       "reviewText        1\n",
       "overall           0\n",
       "summary           0\n",
       "unixReviewTime    0\n",
       "reviewTime        0\n",
       "day_diff          0\n",
       "helpful_yes       0\n",
       "total_vote        0\n",
       "dtype: int64"
      ]
     },
     "execution_count": 7,
     "metadata": {},
     "output_type": "execute_result"
    }
   ],
   "source": [
    "#It was checked for missing data in the dataset.\n",
    "df.isnull().sum()"
   ]
  },
  {
   "cell_type": "code",
   "execution_count": 8,
   "id": "c0d356e9",
   "metadata": {
    "execution": {
     "iopub.execute_input": "2022-11-02T11:38:11.204739Z",
     "iopub.status.busy": "2022-11-02T11:38:11.204293Z",
     "iopub.status.idle": "2022-11-02T11:38:11.236191Z",
     "shell.execute_reply": "2022-11-02T11:38:11.234903Z"
    },
    "papermill": {
     "duration": 0.045105,
     "end_time": "2022-11-02T11:38:11.238703",
     "exception": false,
     "start_time": "2022-11-02T11:38:11.193598",
     "status": "completed"
    },
    "tags": []
   },
   "outputs": [
    {
     "data": {
      "text/html": [
       "<div>\n",
       "<style scoped>\n",
       "    .dataframe tbody tr th:only-of-type {\n",
       "        vertical-align: middle;\n",
       "    }\n",
       "\n",
       "    .dataframe tbody tr th {\n",
       "        vertical-align: top;\n",
       "    }\n",
       "\n",
       "    .dataframe thead th {\n",
       "        text-align: right;\n",
       "    }\n",
       "</style>\n",
       "<table border=\"1\" class=\"dataframe\">\n",
       "  <thead>\n",
       "    <tr style=\"text-align: right;\">\n",
       "      <th></th>\n",
       "      <th>count</th>\n",
       "      <th>mean</th>\n",
       "      <th>std</th>\n",
       "      <th>min</th>\n",
       "      <th>25%</th>\n",
       "      <th>50%</th>\n",
       "      <th>75%</th>\n",
       "      <th>max</th>\n",
       "    </tr>\n",
       "  </thead>\n",
       "  <tbody>\n",
       "    <tr>\n",
       "      <th>overall</th>\n",
       "      <td>4915.00000</td>\n",
       "      <td>4.58759</td>\n",
       "      <td>0.99685</td>\n",
       "      <td>1.00000</td>\n",
       "      <td>5.00000</td>\n",
       "      <td>5.00000</td>\n",
       "      <td>5.00000</td>\n",
       "      <td>5.00000</td>\n",
       "    </tr>\n",
       "    <tr>\n",
       "      <th>unixReviewTime</th>\n",
       "      <td>4915.00000</td>\n",
       "      <td>1379465001.66836</td>\n",
       "      <td>15818574.32275</td>\n",
       "      <td>1339200000.00000</td>\n",
       "      <td>1365897600.00000</td>\n",
       "      <td>1381276800.00000</td>\n",
       "      <td>1392163200.00000</td>\n",
       "      <td>1406073600.00000</td>\n",
       "    </tr>\n",
       "    <tr>\n",
       "      <th>day_diff</th>\n",
       "      <td>4915.00000</td>\n",
       "      <td>437.36704</td>\n",
       "      <td>209.43987</td>\n",
       "      <td>1.00000</td>\n",
       "      <td>281.00000</td>\n",
       "      <td>431.00000</td>\n",
       "      <td>601.00000</td>\n",
       "      <td>1064.00000</td>\n",
       "    </tr>\n",
       "    <tr>\n",
       "      <th>helpful_yes</th>\n",
       "      <td>4915.00000</td>\n",
       "      <td>1.31109</td>\n",
       "      <td>41.61916</td>\n",
       "      <td>0.00000</td>\n",
       "      <td>0.00000</td>\n",
       "      <td>0.00000</td>\n",
       "      <td>0.00000</td>\n",
       "      <td>1952.00000</td>\n",
       "    </tr>\n",
       "    <tr>\n",
       "      <th>total_vote</th>\n",
       "      <td>4915.00000</td>\n",
       "      <td>1.52146</td>\n",
       "      <td>44.12309</td>\n",
       "      <td>0.00000</td>\n",
       "      <td>0.00000</td>\n",
       "      <td>0.00000</td>\n",
       "      <td>0.00000</td>\n",
       "      <td>2020.00000</td>\n",
       "    </tr>\n",
       "  </tbody>\n",
       "</table>\n",
       "</div>"
      ],
      "text/plain": [
       "                    count             mean            std              min              25%              50%              75%              max\n",
       "overall        4915.00000          4.58759        0.99685          1.00000          5.00000          5.00000          5.00000          5.00000\n",
       "unixReviewTime 4915.00000 1379465001.66836 15818574.32275 1339200000.00000 1365897600.00000 1381276800.00000 1392163200.00000 1406073600.00000\n",
       "day_diff       4915.00000        437.36704      209.43987          1.00000        281.00000        431.00000        601.00000       1064.00000\n",
       "helpful_yes    4915.00000          1.31109       41.61916          0.00000          0.00000          0.00000          0.00000       1952.00000\n",
       "total_vote     4915.00000          1.52146       44.12309          0.00000          0.00000          0.00000          0.00000       2020.00000"
      ]
     },
     "execution_count": 8,
     "metadata": {},
     "output_type": "execute_result"
    }
   ],
   "source": [
    "#The statistical properties of the columns of the data set containing numeric data were checked.\n",
    "df.describe().T"
   ]
  },
  {
   "cell_type": "code",
   "execution_count": 9,
   "id": "f2ad8bc4",
   "metadata": {
    "execution": {
     "iopub.execute_input": "2022-11-02T11:38:11.259242Z",
     "iopub.status.busy": "2022-11-02T11:38:11.258802Z",
     "iopub.status.idle": "2022-11-02T11:38:11.278774Z",
     "shell.execute_reply": "2022-11-02T11:38:11.277492Z"
    },
    "papermill": {
     "duration": 0.033299,
     "end_time": "2022-11-02T11:38:11.281432",
     "exception": false,
     "start_time": "2022-11-02T11:38:11.248133",
     "status": "completed"
    },
    "tags": []
   },
   "outputs": [
    {
     "data": {
      "text/plain": [
       "reviewerID        4915\n",
       "asin                 1\n",
       "reviewerName      4594\n",
       "helpful             42\n",
       "reviewText        4912\n",
       "overall              5\n",
       "summary           3885\n",
       "unixReviewTime     690\n",
       "reviewTime         690\n",
       "day_diff           690\n",
       "helpful_yes         23\n",
       "total_vote          26\n",
       "dtype: int64"
      ]
     },
     "execution_count": 9,
     "metadata": {},
     "output_type": "execute_result"
    }
   ],
   "source": [
    "#The number of unique values for each variable in the dataset was looked at.\n",
    "df.nunique()"
   ]
  },
  {
   "cell_type": "markdown",
   "id": "f48c0d27",
   "metadata": {
    "papermill": {
     "duration": 0.009115,
     "end_time": "2022-11-02T11:38:11.300067",
     "exception": false,
     "start_time": "2022-11-02T11:38:11.290952",
     "status": "completed"
    },
    "tags": []
   },
   "source": [
    "# Product Rating"
   ]
  },
  {
   "cell_type": "code",
   "execution_count": 10,
   "id": "abd42042",
   "metadata": {
    "execution": {
     "iopub.execute_input": "2022-11-02T11:38:11.320555Z",
     "iopub.status.busy": "2022-11-02T11:38:11.320117Z",
     "iopub.status.idle": "2022-11-02T11:38:11.328077Z",
     "shell.execute_reply": "2022-11-02T11:38:11.326925Z"
    },
    "papermill": {
     "duration": 0.020737,
     "end_time": "2022-11-02T11:38:11.330247",
     "exception": false,
     "start_time": "2022-11-02T11:38:11.309510",
     "status": "completed"
    },
    "tags": []
   },
   "outputs": [
    {
     "data": {
      "text/plain": [
       "4.587589013224822"
      ]
     },
     "execution_count": 10,
     "metadata": {},
     "output_type": "execute_result"
    }
   ],
   "source": [
    "#The average score of the product was calculated.\n",
    "df.overall.mean()"
   ]
  },
  {
   "cell_type": "code",
   "execution_count": 11,
   "id": "1cfc0a6a",
   "metadata": {
    "execution": {
     "iopub.execute_input": "2022-11-02T11:38:11.351689Z",
     "iopub.status.busy": "2022-11-02T11:38:11.351237Z",
     "iopub.status.idle": "2022-11-02T11:38:11.809566Z",
     "shell.execute_reply": "2022-11-02T11:38:11.808707Z"
    },
    "papermill": {
     "duration": 0.472014,
     "end_time": "2022-11-02T11:38:11.812060",
     "exception": false,
     "start_time": "2022-11-02T11:38:11.340046",
     "status": "completed"
    },
    "tags": []
   },
   "outputs": [],
   "source": [
    "#The data types of the date variables are changed with datetime module to be able to use them in date calculations.\n",
    "df[\"reviewTime\"] = df[\"reviewTime\"].apply(pd.to_datetime)\n",
    "\n",
    "current_date = df[\"reviewTime\"].max()\n",
    "\n",
    "df[\"day_dif\"] = (current_date - df[\"reviewTime\"]).astype('timedelta64[D]')\n",
    "\n"
   ]
  },
  {
   "cell_type": "code",
   "execution_count": 12,
   "id": "151ba99e",
   "metadata": {
    "execution": {
     "iopub.execute_input": "2022-11-02T11:38:11.833308Z",
     "iopub.status.busy": "2022-11-02T11:38:11.832643Z",
     "iopub.status.idle": "2022-11-02T11:38:11.842151Z",
     "shell.execute_reply": "2022-11-02T11:38:11.840935Z"
    },
    "papermill": {
     "duration": 0.023059,
     "end_time": "2022-11-02T11:38:11.844722",
     "exception": false,
     "start_time": "2022-11-02T11:38:11.821663",
     "status": "completed"
    },
    "tags": []
   },
   "outputs": [
    {
     "data": {
      "text/plain": [
       "0.25000   280.00000\n",
       "0.50000   430.00000\n",
       "0.75000   600.00000\n",
       "Name: day_dif, dtype: float64"
      ]
     },
     "execution_count": 12,
     "metadata": {},
     "output_type": "execute_result"
    }
   ],
   "source": [
    "#Quarterly values were found to determine weight.\n",
    "df[\"day_dif\"].quantile([.25, .5, .75])"
   ]
  },
  {
   "cell_type": "code",
   "execution_count": 13,
   "id": "ca758a5c",
   "metadata": {
    "execution": {
     "iopub.execute_input": "2022-11-02T11:38:11.866112Z",
     "iopub.status.busy": "2022-11-02T11:38:11.865415Z",
     "iopub.status.idle": "2022-11-02T11:38:11.879483Z",
     "shell.execute_reply": "2022-11-02T11:38:11.878380Z"
    },
    "papermill": {
     "duration": 0.028488,
     "end_time": "2022-11-02T11:38:11.882890",
     "exception": false,
     "start_time": "2022-11-02T11:38:11.854402",
     "status": "completed"
    },
    "tags": []
   },
   "outputs": [
    {
     "data": {
      "text/plain": [
       "4.604381672622366"
      ]
     },
     "execution_count": 13,
     "metadata": {},
     "output_type": "execute_result"
    }
   ],
   "source": [
    "#Calculated the weighted mean score by date.\n",
    "def time_based_weighted_average(dataframe, w1=30, w2=28, w3=24, w4=18):\n",
    "    return dataframe.loc[dataframe[\"day_dif\"] <= 280, \"overall\"].mean() * w1 / 100 + \\\n",
    "           dataframe.loc[(dataframe[\"day_dif\"] > 280) & (dataframe[\"day_dif\"] <=430), \"overall\"].mean() * w2 / 100 + \\\n",
    "           dataframe.loc[(dataframe[\"day_dif\"] > 430) & (dataframe[\"day_dif\"] <=600), \"overall\"].mean() * w3 / 100 + \\\n",
    "           dataframe.loc[(dataframe[\"day_dif\"] > 600), \"overall\"].mean() * w4 / 100\n",
    "\n",
    "time_based_weighted_average(df)"
   ]
  },
  {
   "cell_type": "code",
   "execution_count": 14,
   "id": "ce0d46f8",
   "metadata": {
    "execution": {
     "iopub.execute_input": "2022-11-02T11:38:11.904526Z",
     "iopub.status.busy": "2022-11-02T11:38:11.903891Z",
     "iopub.status.idle": "2022-11-02T11:38:11.911147Z",
     "shell.execute_reply": "2022-11-02T11:38:11.909981Z"
    },
    "papermill": {
     "duration": 0.020349,
     "end_time": "2022-11-02T11:38:11.913281",
     "exception": false,
     "start_time": "2022-11-02T11:38:11.892932",
     "status": "completed"
    },
    "tags": []
   },
   "outputs": [
    {
     "data": {
      "text/plain": [
       "4.6957928802588995"
      ]
     },
     "execution_count": 14,
     "metadata": {},
     "output_type": "execute_result"
    }
   ],
   "source": [
    "#Average of ratings made before 280 days.\n",
    "df.loc[df[\"day_dif\"] <= 280, \"overall\"].mean()"
   ]
  },
  {
   "cell_type": "code",
   "execution_count": 15,
   "id": "28246ee3",
   "metadata": {
    "execution": {
     "iopub.execute_input": "2022-11-02T11:38:11.935143Z",
     "iopub.status.busy": "2022-11-02T11:38:11.934271Z",
     "iopub.status.idle": "2022-11-02T11:38:11.942108Z",
     "shell.execute_reply": "2022-11-02T11:38:11.941300Z"
    },
    "papermill": {
     "duration": 0.021034,
     "end_time": "2022-11-02T11:38:11.944125",
     "exception": false,
     "start_time": "2022-11-02T11:38:11.923091",
     "status": "completed"
    },
    "tags": []
   },
   "outputs": [
    {
     "data": {
      "text/plain": [
       "4.636140637775961"
      ]
     },
     "execution_count": 15,
     "metadata": {},
     "output_type": "execute_result"
    }
   ],
   "source": [
    "#Average of ratings made between 280 days and 430 days.\n",
    "df.loc[(df[\"day_dif\"] > 280) & (df[\"day_dif\"] <=430), \"overall\"].mean()"
   ]
  },
  {
   "cell_type": "code",
   "execution_count": 16,
   "id": "e6f1951c",
   "metadata": {
    "execution": {
     "iopub.execute_input": "2022-11-02T11:38:11.965617Z",
     "iopub.status.busy": "2022-11-02T11:38:11.964977Z",
     "iopub.status.idle": "2022-11-02T11:38:11.972678Z",
     "shell.execute_reply": "2022-11-02T11:38:11.971724Z"
    },
    "papermill": {
     "duration": 0.021336,
     "end_time": "2022-11-02T11:38:11.975191",
     "exception": false,
     "start_time": "2022-11-02T11:38:11.953855",
     "status": "completed"
    },
    "tags": []
   },
   "outputs": [
    {
     "data": {
      "text/plain": [
       "4.571661237785016"
      ]
     },
     "execution_count": 16,
     "metadata": {},
     "output_type": "execute_result"
    }
   ],
   "source": [
    "#Average of ratings made between 430 days and 600 days.\n",
    "df.loc[(df[\"day_dif\"] > 430) & (df[\"day_dif\"] <= 600), \"overall\"].mean()"
   ]
  },
  {
   "cell_type": "code",
   "execution_count": 17,
   "id": "dac7b29f",
   "metadata": {
    "execution": {
     "iopub.execute_input": "2022-11-02T11:38:11.997249Z",
     "iopub.status.busy": "2022-11-02T11:38:11.996394Z",
     "iopub.status.idle": "2022-11-02T11:38:12.005227Z",
     "shell.execute_reply": "2022-11-02T11:38:12.004066Z"
    },
    "papermill": {
     "duration": 0.022471,
     "end_time": "2022-11-02T11:38:12.007638",
     "exception": false,
     "start_time": "2022-11-02T11:38:11.985167",
     "status": "completed"
    },
    "tags": []
   },
   "outputs": [
    {
     "data": {
      "text/plain": [
       "4.4462540716612375"
      ]
     },
     "execution_count": 17,
     "metadata": {},
     "output_type": "execute_result"
    }
   ],
   "source": [
    "#Average of ratings over 600 days.\n",
    "df.loc[(df[\"day_dif\"] > 600), \"overall\"].mean()"
   ]
  },
  {
   "cell_type": "code",
   "execution_count": 18,
   "id": "de81b9d5",
   "metadata": {
    "execution": {
     "iopub.execute_input": "2022-11-02T11:38:12.029632Z",
     "iopub.status.busy": "2022-11-02T11:38:12.029188Z",
     "iopub.status.idle": "2022-11-02T11:38:12.046027Z",
     "shell.execute_reply": "2022-11-02T11:38:12.044562Z"
    },
    "papermill": {
     "duration": 0.031022,
     "end_time": "2022-11-02T11:38:12.048900",
     "exception": false,
     "start_time": "2022-11-02T11:38:12.017878",
     "status": "completed"
    },
    "tags": []
   },
   "outputs": [
    {
     "data": {
      "text/html": [
       "<div>\n",
       "<style scoped>\n",
       "    .dataframe tbody tr th:only-of-type {\n",
       "        vertical-align: middle;\n",
       "    }\n",
       "\n",
       "    .dataframe tbody tr th {\n",
       "        vertical-align: top;\n",
       "    }\n",
       "\n",
       "    .dataframe thead th {\n",
       "        text-align: right;\n",
       "    }\n",
       "</style>\n",
       "<table border=\"1\" class=\"dataframe\">\n",
       "  <thead>\n",
       "    <tr style=\"text-align: right;\">\n",
       "      <th></th>\n",
       "      <th></th>\n",
       "      <th>overall</th>\n",
       "    </tr>\n",
       "    <tr>\n",
       "      <th>asin</th>\n",
       "      <th>overall</th>\n",
       "      <th></th>\n",
       "    </tr>\n",
       "  </thead>\n",
       "  <tbody>\n",
       "    <tr>\n",
       "      <th rowspan=\"5\" valign=\"top\">B007WTAJTO</th>\n",
       "      <th>5.00000</th>\n",
       "      <td>3922</td>\n",
       "    </tr>\n",
       "    <tr>\n",
       "      <th>4.00000</th>\n",
       "      <td>527</td>\n",
       "    </tr>\n",
       "    <tr>\n",
       "      <th>1.00000</th>\n",
       "      <td>244</td>\n",
       "    </tr>\n",
       "    <tr>\n",
       "      <th>3.00000</th>\n",
       "      <td>142</td>\n",
       "    </tr>\n",
       "    <tr>\n",
       "      <th>2.00000</th>\n",
       "      <td>80</td>\n",
       "    </tr>\n",
       "  </tbody>\n",
       "</table>\n",
       "</div>"
      ],
      "text/plain": [
       "                    overall\n",
       "asin       overall         \n",
       "B007WTAJTO 5.00000     3922\n",
       "           4.00000      527\n",
       "           1.00000      244\n",
       "           3.00000      142\n",
       "           2.00000       80"
      ]
     },
     "execution_count": 18,
     "metadata": {},
     "output_type": "execute_result"
    }
   ],
   "source": [
    "#how many people were found in each scoring range.\n",
    "df.groupby(\"asin\").agg({\"overall\" : \"value_counts\"})"
   ]
  },
  {
   "cell_type": "code",
   "execution_count": 19,
   "id": "abb61ae4",
   "metadata": {
    "execution": {
     "iopub.execute_input": "2022-11-02T11:38:12.071392Z",
     "iopub.status.busy": "2022-11-02T11:38:12.070996Z",
     "iopub.status.idle": "2022-11-02T11:38:12.079710Z",
     "shell.execute_reply": "2022-11-02T11:38:12.078440Z"
    },
    "papermill": {
     "duration": 0.023003,
     "end_time": "2022-11-02T11:38:12.082309",
     "exception": false,
     "start_time": "2022-11-02T11:38:12.059306",
     "status": "completed"
    },
    "tags": []
   },
   "outputs": [],
   "source": [
    "#The Bayesian average adjusts the average rating of products whose rating counts fall below a threshold. \n",
    "def bayesian_average_rating(n, confidence=0.95):\n",
    "    if sum(n) == 0:\n",
    "        return 0\n",
    "    K = len(n)\n",
    "    z = st.norm.ppf(1 - (1 - confidence) / 2)\n",
    "    N = sum(n)\n",
    "    first_part = 0.0\n",
    "    second_part = 0.0\n",
    "    for k, n_k in enumerate(n):\n",
    "        first_part += (k + 1) * (n[k] + 1) / (N + K)\n",
    "        second_part += (k + 1) * (k + 1) * (n[k] + 1) / (N + K)\n",
    "    score = first_part - z * math.sqrt((second_part - first_part * first_part) / (N + K + 1))\n",
    "    return score"
   ]
  },
  {
   "cell_type": "code",
   "execution_count": 20,
   "id": "73f8d340",
   "metadata": {
    "execution": {
     "iopub.execute_input": "2022-11-02T11:38:12.104835Z",
     "iopub.status.busy": "2022-11-02T11:38:12.104402Z",
     "iopub.status.idle": "2022-11-02T11:38:12.111893Z",
     "shell.execute_reply": "2022-11-02T11:38:12.110738Z"
    },
    "papermill": {
     "duration": 0.021632,
     "end_time": "2022-11-02T11:38:12.114335",
     "exception": false,
     "start_time": "2022-11-02T11:38:12.092703",
     "status": "completed"
    },
    "tags": []
   },
   "outputs": [
    {
     "data": {
      "text/plain": [
       "4.558101840050464"
      ]
     },
     "execution_count": 20,
     "metadata": {},
     "output_type": "execute_result"
    }
   ],
   "source": [
    "bayesian_average_rating([244,80,142,526,3921])"
   ]
  },
  {
   "cell_type": "markdown",
   "id": "e5c1f6d5",
   "metadata": {
    "papermill": {
     "duration": 0.009724,
     "end_time": "2022-11-02T11:38:12.135021",
     "exception": false,
     "start_time": "2022-11-02T11:38:12.125297",
     "status": "completed"
    },
    "tags": []
   },
   "source": [
    "# Product Reviews"
   ]
  },
  {
   "cell_type": "code",
   "execution_count": 21,
   "id": "3eb8fbf7",
   "metadata": {
    "execution": {
     "iopub.execute_input": "2022-11-02T11:38:12.156931Z",
     "iopub.status.busy": "2022-11-02T11:38:12.156527Z",
     "iopub.status.idle": "2022-11-02T11:38:12.162494Z",
     "shell.execute_reply": "2022-11-02T11:38:12.161371Z"
    },
    "papermill": {
     "duration": 0.019824,
     "end_time": "2022-11-02T11:38:12.164889",
     "exception": false,
     "start_time": "2022-11-02T11:38:12.145065",
     "status": "completed"
    },
    "tags": []
   },
   "outputs": [],
   "source": [
    "#The number of those who did not find the comment useful was calculated.\n",
    "df[\"helpful_no\"] = df[\"total_vote\"] - df[\"helpful_yes\"]"
   ]
  },
  {
   "cell_type": "code",
   "execution_count": 22,
   "id": "dd1a2e8e",
   "metadata": {
    "execution": {
     "iopub.execute_input": "2022-11-02T11:38:12.187286Z",
     "iopub.status.busy": "2022-11-02T11:38:12.186846Z",
     "iopub.status.idle": "2022-11-02T11:38:12.195740Z",
     "shell.execute_reply": "2022-11-02T11:38:12.194585Z"
    },
    "papermill": {
     "duration": 0.023015,
     "end_time": "2022-11-02T11:38:12.198194",
     "exception": false,
     "start_time": "2022-11-02T11:38:12.175179",
     "status": "completed"
    },
    "tags": []
   },
   "outputs": [
    {
     "data": {
      "text/plain": [
       "0      4674\n",
       "1       175\n",
       "2        43\n",
       "3         7\n",
       "27        2\n",
       "4         2\n",
       "6         2\n",
       "73        1\n",
       "8         1\n",
       "10        1\n",
       "68        1\n",
       "110       1\n",
       "183       1\n",
       "77        1\n",
       "126       1\n",
       "14        1\n",
       "9         1\n",
       "Name: helpful_no, dtype: int64"
      ]
     },
     "execution_count": 22,
     "metadata": {},
     "output_type": "execute_result"
    }
   ],
   "source": [
    "df[\"helpful_no\"].value_counts()"
   ]
  },
  {
   "cell_type": "code",
   "execution_count": 23,
   "id": "e69ca142",
   "metadata": {
    "execution": {
     "iopub.execute_input": "2022-11-02T11:38:12.220878Z",
     "iopub.status.busy": "2022-11-02T11:38:12.220396Z",
     "iopub.status.idle": "2022-11-02T11:38:12.322877Z",
     "shell.execute_reply": "2022-11-02T11:38:12.321913Z"
    },
    "papermill": {
     "duration": 0.116884,
     "end_time": "2022-11-02T11:38:12.325522",
     "exception": false,
     "start_time": "2022-11-02T11:38:12.208638",
     "status": "completed"
    },
    "tags": []
   },
   "outputs": [],
   "source": [
    "#Scoring according to the difference between up and down\n",
    "def score_up_down_diff(up, down):\n",
    "    return up - down\n",
    "\n",
    "df[\"score_pos_neg_diff\"] = df.apply(lambda x: score_up_down_diff(x[\"helpful_yes\"],x[\"helpful_no\"]), axis=1 )"
   ]
  },
  {
   "cell_type": "code",
   "execution_count": 24,
   "id": "6a2f93cc",
   "metadata": {
    "execution": {
     "iopub.execute_input": "2022-11-02T11:38:12.349421Z",
     "iopub.status.busy": "2022-11-02T11:38:12.348206Z",
     "iopub.status.idle": "2022-11-02T11:38:12.370215Z",
     "shell.execute_reply": "2022-11-02T11:38:12.369017Z"
    },
    "papermill": {
     "duration": 0.036715,
     "end_time": "2022-11-02T11:38:12.372747",
     "exception": false,
     "start_time": "2022-11-02T11:38:12.336032",
     "status": "completed"
    },
    "tags": []
   },
   "outputs": [
    {
     "data": {
      "text/html": [
       "<div>\n",
       "<style scoped>\n",
       "    .dataframe tbody tr th:only-of-type {\n",
       "        vertical-align: middle;\n",
       "    }\n",
       "\n",
       "    .dataframe tbody tr th {\n",
       "        vertical-align: top;\n",
       "    }\n",
       "\n",
       "    .dataframe thead th {\n",
       "        text-align: right;\n",
       "    }\n",
       "</style>\n",
       "<table border=\"1\" class=\"dataframe\">\n",
       "  <thead>\n",
       "    <tr style=\"text-align: right;\">\n",
       "      <th></th>\n",
       "      <th>reviewerID</th>\n",
       "      <th>asin</th>\n",
       "      <th>reviewerName</th>\n",
       "      <th>helpful</th>\n",
       "      <th>reviewText</th>\n",
       "      <th>overall</th>\n",
       "      <th>summary</th>\n",
       "      <th>unixReviewTime</th>\n",
       "      <th>reviewTime</th>\n",
       "      <th>day_diff</th>\n",
       "      <th>helpful_yes</th>\n",
       "      <th>total_vote</th>\n",
       "      <th>day_dif</th>\n",
       "      <th>helpful_no</th>\n",
       "      <th>score_pos_neg_diff</th>\n",
       "    </tr>\n",
       "  </thead>\n",
       "  <tbody>\n",
       "    <tr>\n",
       "      <th>2031</th>\n",
       "      <td>A12B7ZMXFI6IXY</td>\n",
       "      <td>B007WTAJTO</td>\n",
       "      <td>Hyoun Kim \"Faluzure\"</td>\n",
       "      <td>[1952, 2020]</td>\n",
       "      <td>[[ UPDATE - 6/19/2014 ]]So my lovely wife boug...</td>\n",
       "      <td>5.00000</td>\n",
       "      <td>UPDATED - Great w/ Galaxy S4 &amp; Galaxy Tab 4 10...</td>\n",
       "      <td>1367366400</td>\n",
       "      <td>2013-01-05</td>\n",
       "      <td>702</td>\n",
       "      <td>1952</td>\n",
       "      <td>2020</td>\n",
       "      <td>701.00000</td>\n",
       "      <td>68</td>\n",
       "      <td>1884</td>\n",
       "    </tr>\n",
       "    <tr>\n",
       "      <th>4212</th>\n",
       "      <td>AVBMZZAFEKO58</td>\n",
       "      <td>B007WTAJTO</td>\n",
       "      <td>SkincareCEO</td>\n",
       "      <td>[1568, 1694]</td>\n",
       "      <td>NOTE:  please read the last update (scroll to ...</td>\n",
       "      <td>1.00000</td>\n",
       "      <td>1 Star reviews - Micro SDXC card unmounts itse...</td>\n",
       "      <td>1375660800</td>\n",
       "      <td>2013-05-08</td>\n",
       "      <td>579</td>\n",
       "      <td>1568</td>\n",
       "      <td>1694</td>\n",
       "      <td>578.00000</td>\n",
       "      <td>126</td>\n",
       "      <td>1442</td>\n",
       "    </tr>\n",
       "    <tr>\n",
       "      <th>3449</th>\n",
       "      <td>AOEAD7DPLZE53</td>\n",
       "      <td>B007WTAJTO</td>\n",
       "      <td>NLee the Engineer</td>\n",
       "      <td>[1428, 1505]</td>\n",
       "      <td>I have tested dozens of SDHC and micro-SDHC ca...</td>\n",
       "      <td>5.00000</td>\n",
       "      <td>Top of the class among all (budget-priced) mic...</td>\n",
       "      <td>1348617600</td>\n",
       "      <td>2012-09-26</td>\n",
       "      <td>803</td>\n",
       "      <td>1428</td>\n",
       "      <td>1505</td>\n",
       "      <td>802.00000</td>\n",
       "      <td>77</td>\n",
       "      <td>1351</td>\n",
       "    </tr>\n",
       "    <tr>\n",
       "      <th>317</th>\n",
       "      <td>A1ZQAQFYSXL5MQ</td>\n",
       "      <td>B007WTAJTO</td>\n",
       "      <td>Amazon Customer \"Kelly\"</td>\n",
       "      <td>[422, 495]</td>\n",
       "      <td>If your card gets hot enough to be painful, it...</td>\n",
       "      <td>1.00000</td>\n",
       "      <td>Warning, read this!</td>\n",
       "      <td>1346544000</td>\n",
       "      <td>2012-02-09</td>\n",
       "      <td>1033</td>\n",
       "      <td>422</td>\n",
       "      <td>495</td>\n",
       "      <td>1032.00000</td>\n",
       "      <td>73</td>\n",
       "      <td>349</td>\n",
       "    </tr>\n",
       "    <tr>\n",
       "      <th>3981</th>\n",
       "      <td>A1K91XXQ6ZEBQR</td>\n",
       "      <td>B007WTAJTO</td>\n",
       "      <td>R. Sutton, Jr. \"RWSynergy\"</td>\n",
       "      <td>[112, 139]</td>\n",
       "      <td>The last few days I have been diligently shopp...</td>\n",
       "      <td>5.00000</td>\n",
       "      <td>Resolving confusion between \"Mobile Ultra\" and...</td>\n",
       "      <td>1350864000</td>\n",
       "      <td>2012-10-22</td>\n",
       "      <td>777</td>\n",
       "      <td>112</td>\n",
       "      <td>139</td>\n",
       "      <td>776.00000</td>\n",
       "      <td>27</td>\n",
       "      <td>85</td>\n",
       "    </tr>\n",
       "  </tbody>\n",
       "</table>\n",
       "</div>"
      ],
      "text/plain": [
       "          reviewerID        asin                reviewerName       helpful                                         reviewText  overall                                            summary  unixReviewTime reviewTime  day_diff  helpful_yes  total_vote    day_dif  helpful_no  score_pos_neg_diff\n",
       "2031  A12B7ZMXFI6IXY  B007WTAJTO        Hyoun Kim \"Faluzure\"  [1952, 2020]  [[ UPDATE - 6/19/2014 ]]So my lovely wife boug...  5.00000  UPDATED - Great w/ Galaxy S4 & Galaxy Tab 4 10...      1367366400 2013-01-05       702         1952        2020  701.00000          68                1884\n",
       "4212   AVBMZZAFEKO58  B007WTAJTO                 SkincareCEO  [1568, 1694]  NOTE:  please read the last update (scroll to ...  1.00000  1 Star reviews - Micro SDXC card unmounts itse...      1375660800 2013-05-08       579         1568        1694  578.00000         126                1442\n",
       "3449   AOEAD7DPLZE53  B007WTAJTO           NLee the Engineer  [1428, 1505]  I have tested dozens of SDHC and micro-SDHC ca...  5.00000  Top of the class among all (budget-priced) mic...      1348617600 2012-09-26       803         1428        1505  802.00000          77                1351\n",
       "317   A1ZQAQFYSXL5MQ  B007WTAJTO     Amazon Customer \"Kelly\"    [422, 495]  If your card gets hot enough to be painful, it...  1.00000                                Warning, read this!      1346544000 2012-02-09      1033          422         495 1032.00000          73                 349\n",
       "3981  A1K91XXQ6ZEBQR  B007WTAJTO  R. Sutton, Jr. \"RWSynergy\"    [112, 139]  The last few days I have been diligently shopp...  5.00000  Resolving confusion between \"Mobile Ultra\" and...      1350864000 2012-10-22       777          112         139  776.00000          27                  85"
      ]
     },
     "execution_count": 24,
     "metadata": {},
     "output_type": "execute_result"
    }
   ],
   "source": [
    "df.sort_values(by = \"score_pos_neg_diff\", ascending = False).head()"
   ]
  },
  {
   "cell_type": "code",
   "execution_count": 25,
   "id": "21156858",
   "metadata": {
    "execution": {
     "iopub.execute_input": "2022-11-02T11:38:12.395895Z",
     "iopub.status.busy": "2022-11-02T11:38:12.395429Z",
     "iopub.status.idle": "2022-11-02T11:38:12.497442Z",
     "shell.execute_reply": "2022-11-02T11:38:12.496500Z"
    },
    "papermill": {
     "duration": 0.116507,
     "end_time": "2022-11-02T11:38:12.500021",
     "exception": false,
     "start_time": "2022-11-02T11:38:12.383514",
     "status": "completed"
    },
    "tags": []
   },
   "outputs": [],
   "source": [
    "#It scores the comment by dividing the number of ups by the total number of votes.\n",
    "def score_average_rating(up, down):\n",
    "  if up + down == 0:\n",
    "    \n",
    "      return 0\n",
    "\n",
    "  return up / (up+down)\n",
    "\n",
    "df[\"score_average_rating\"] = df.apply(lambda x: score_average_rating(x[\"helpful_yes\"],x[\"helpful_no\"]), axis=1 )"
   ]
  },
  {
   "cell_type": "code",
   "execution_count": 26,
   "id": "1b785510",
   "metadata": {
    "execution": {
     "iopub.execute_input": "2022-11-02T11:38:12.523405Z",
     "iopub.status.busy": "2022-11-02T11:38:12.522604Z",
     "iopub.status.idle": "2022-11-02T11:38:12.544213Z",
     "shell.execute_reply": "2022-11-02T11:38:12.542734Z"
    },
    "papermill": {
     "duration": 0.035949,
     "end_time": "2022-11-02T11:38:12.546699",
     "exception": false,
     "start_time": "2022-11-02T11:38:12.510750",
     "status": "completed"
    },
    "tags": []
   },
   "outputs": [
    {
     "data": {
      "text/html": [
       "<div>\n",
       "<style scoped>\n",
       "    .dataframe tbody tr th:only-of-type {\n",
       "        vertical-align: middle;\n",
       "    }\n",
       "\n",
       "    .dataframe tbody tr th {\n",
       "        vertical-align: top;\n",
       "    }\n",
       "\n",
       "    .dataframe thead th {\n",
       "        text-align: right;\n",
       "    }\n",
       "</style>\n",
       "<table border=\"1\" class=\"dataframe\">\n",
       "  <thead>\n",
       "    <tr style=\"text-align: right;\">\n",
       "      <th></th>\n",
       "      <th>reviewerID</th>\n",
       "      <th>asin</th>\n",
       "      <th>reviewerName</th>\n",
       "      <th>helpful</th>\n",
       "      <th>reviewText</th>\n",
       "      <th>overall</th>\n",
       "      <th>summary</th>\n",
       "      <th>unixReviewTime</th>\n",
       "      <th>reviewTime</th>\n",
       "      <th>day_diff</th>\n",
       "      <th>helpful_yes</th>\n",
       "      <th>total_vote</th>\n",
       "      <th>day_dif</th>\n",
       "      <th>helpful_no</th>\n",
       "      <th>score_pos_neg_diff</th>\n",
       "      <th>score_average_rating</th>\n",
       "    </tr>\n",
       "  </thead>\n",
       "  <tbody>\n",
       "    <tr>\n",
       "      <th>4277</th>\n",
       "      <td>A35KXSU6AD1481</td>\n",
       "      <td>B007WTAJTO</td>\n",
       "      <td>S. Q.</td>\n",
       "      <td>[1, 1]</td>\n",
       "      <td>I have a galaxy note II and after rooting I no...</td>\n",
       "      <td>5.00000</td>\n",
       "      <td>Perfect!!</td>\n",
       "      <td>1355875200</td>\n",
       "      <td>2012-12-19</td>\n",
       "      <td>719</td>\n",
       "      <td>1</td>\n",
       "      <td>1</td>\n",
       "      <td>718.00000</td>\n",
       "      <td>0</td>\n",
       "      <td>1</td>\n",
       "      <td>1.00000</td>\n",
       "    </tr>\n",
       "    <tr>\n",
       "      <th>2881</th>\n",
       "      <td>A3VSG5X7GPNNW6</td>\n",
       "      <td>B007WTAJTO</td>\n",
       "      <td>Lou Thomas</td>\n",
       "      <td>[1, 1]</td>\n",
       "      <td>The Nexus One is listed as supporting a maximu...</td>\n",
       "      <td>5.00000</td>\n",
       "      <td>Nexus One Loves This Card!</td>\n",
       "      <td>1349049600</td>\n",
       "      <td>2012-01-10</td>\n",
       "      <td>1063</td>\n",
       "      <td>1</td>\n",
       "      <td>1</td>\n",
       "      <td>1062.00000</td>\n",
       "      <td>0</td>\n",
       "      <td>1</td>\n",
       "      <td>1.00000</td>\n",
       "    </tr>\n",
       "    <tr>\n",
       "      <th>1073</th>\n",
       "      <td>A2ZXEKQ2OBZLEE</td>\n",
       "      <td>B007WTAJTO</td>\n",
       "      <td>C. Sanchez</td>\n",
       "      <td>[1, 1]</td>\n",
       "      <td>I used it with my Samsung S4 and it works grea...</td>\n",
       "      <td>5.00000</td>\n",
       "      <td>Tons of space for phone</td>\n",
       "      <td>1376352000</td>\n",
       "      <td>2013-08-13</td>\n",
       "      <td>482</td>\n",
       "      <td>1</td>\n",
       "      <td>1</td>\n",
       "      <td>481.00000</td>\n",
       "      <td>0</td>\n",
       "      <td>1</td>\n",
       "      <td>1.00000</td>\n",
       "    </tr>\n",
       "    <tr>\n",
       "      <th>445</th>\n",
       "      <td>AIWBDRNBODLEA</td>\n",
       "      <td>B007WTAJTO</td>\n",
       "      <td>Apache \"Elizabeth\"</td>\n",
       "      <td>[1, 1]</td>\n",
       "      <td>This is exactly what I was looking for to upgr...</td>\n",
       "      <td>4.00000</td>\n",
       "      <td>Amazon Great Prices</td>\n",
       "      <td>1387324800</td>\n",
       "      <td>2013-12-18</td>\n",
       "      <td>355</td>\n",
       "      <td>1</td>\n",
       "      <td>1</td>\n",
       "      <td>354.00000</td>\n",
       "      <td>0</td>\n",
       "      <td>1</td>\n",
       "      <td>1.00000</td>\n",
       "    </tr>\n",
       "    <tr>\n",
       "      <th>3923</th>\n",
       "      <td>A2PH4RGYVR34L</td>\n",
       "      <td>B007WTAJTO</td>\n",
       "      <td>Rock Your Roots</td>\n",
       "      <td>[1, 1]</td>\n",
       "      <td>It's a SanDisk, so what more is there to say? ...</td>\n",
       "      <td>5.00000</td>\n",
       "      <td>What more to say?</td>\n",
       "      <td>1388361600</td>\n",
       "      <td>2013-12-30</td>\n",
       "      <td>343</td>\n",
       "      <td>1</td>\n",
       "      <td>1</td>\n",
       "      <td>342.00000</td>\n",
       "      <td>0</td>\n",
       "      <td>1</td>\n",
       "      <td>1.00000</td>\n",
       "    </tr>\n",
       "  </tbody>\n",
       "</table>\n",
       "</div>"
      ],
      "text/plain": [
       "          reviewerID        asin        reviewerName helpful                                         reviewText  overall                     summary  unixReviewTime reviewTime  day_diff  helpful_yes  total_vote    day_dif  helpful_no  score_pos_neg_diff  score_average_rating\n",
       "4277  A35KXSU6AD1481  B007WTAJTO               S. Q.  [1, 1]  I have a galaxy note II and after rooting I no...  5.00000                   Perfect!!      1355875200 2012-12-19       719            1           1  718.00000           0                   1               1.00000\n",
       "2881  A3VSG5X7GPNNW6  B007WTAJTO          Lou Thomas  [1, 1]  The Nexus One is listed as supporting a maximu...  5.00000  Nexus One Loves This Card!      1349049600 2012-01-10      1063            1           1 1062.00000           0                   1               1.00000\n",
       "1073  A2ZXEKQ2OBZLEE  B007WTAJTO          C. Sanchez  [1, 1]  I used it with my Samsung S4 and it works grea...  5.00000     Tons of space for phone      1376352000 2013-08-13       482            1           1  481.00000           0                   1               1.00000\n",
       "445    AIWBDRNBODLEA  B007WTAJTO  Apache \"Elizabeth\"  [1, 1]  This is exactly what I was looking for to upgr...  4.00000         Amazon Great Prices      1387324800 2013-12-18       355            1           1  354.00000           0                   1               1.00000\n",
       "3923   A2PH4RGYVR34L  B007WTAJTO     Rock Your Roots  [1, 1]  It's a SanDisk, so what more is there to say? ...  5.00000           What more to say?      1388361600 2013-12-30       343            1           1  342.00000           0                   1               1.00000"
      ]
     },
     "execution_count": 26,
     "metadata": {},
     "output_type": "execute_result"
    }
   ],
   "source": [
    "df.sort_values(by = \"score_average_rating\", ascending = False).head()"
   ]
  },
  {
   "cell_type": "code",
   "execution_count": 27,
   "id": "98e32b48",
   "metadata": {
    "execution": {
     "iopub.execute_input": "2022-11-02T11:38:12.571351Z",
     "iopub.status.busy": "2022-11-02T11:38:12.570913Z",
     "iopub.status.idle": "2022-11-02T11:38:12.761981Z",
     "shell.execute_reply": "2022-11-02T11:38:12.760324Z"
    },
    "papermill": {
     "duration": 0.206803,
     "end_time": "2022-11-02T11:38:12.764943",
     "exception": false,
     "start_time": "2022-11-02T11:38:12.558140",
     "status": "completed"
    },
    "tags": []
   },
   "outputs": [],
   "source": [
    "\"\"\"\n",
    "     Calculate Wilson Lower Bound Score\n",
    "\n",
    "     - The lower limit of the confidence interval to be calculated for the Bernoulli parameter p is accepted as the WLB score.\n",
    "     - The score to be calculated is used for product ranking.\n",
    "     - Note:\n",
    "     If the scores are between 1-5, 1-3 are marked as negative, 4-5 as positive and can be made to conform to Bernoulli.\n",
    "     This brings with it some problems. For this reason, it is necessary to make a bayesian average rating.\n",
    "\n",
    "     parameters\n",
    "     ----------\n",
    "     up: int\n",
    "         up count\n",
    "     down: int\n",
    "         down count\n",
    "     confidence: float\n",
    "         confidence\n",
    "\n",
    "     Returns\n",
    "     -------\n",
    "     wilson score: float\n",
    "\n",
    "     \"\"\"\n",
    "def wilson_lower_bound(up, down, confidence=0.95):\n",
    "\n",
    "    n = up + down\n",
    "    if n == 0:\n",
    "        return 0 \n",
    "\n",
    "    z = st.norm.ppf(1 - (1 - confidence) / 2)\n",
    "    \n",
    "    phat = 1.0 * up / n\n",
    "    return (phat + z * z / (2 * n) - z * math.sqrt((phat * (1 - phat) + z * z / (4 * n)) / n)) / (1 + z * z / n)\n",
    "\n",
    "df[\"wilson_lower_bound\"] = df.apply(lambda x: wilson_lower_bound(x[\"helpful_yes\"],x[\"helpful_no\"]), axis=1 )"
   ]
  },
  {
   "cell_type": "code",
   "execution_count": 28,
   "id": "0d27b97c",
   "metadata": {
    "execution": {
     "iopub.execute_input": "2022-11-02T11:38:12.789852Z",
     "iopub.status.busy": "2022-11-02T11:38:12.788682Z",
     "iopub.status.idle": "2022-11-02T11:38:12.809610Z",
     "shell.execute_reply": "2022-11-02T11:38:12.808352Z"
    },
    "papermill": {
     "duration": 0.0357,
     "end_time": "2022-11-02T11:38:12.811976",
     "exception": false,
     "start_time": "2022-11-02T11:38:12.776276",
     "status": "completed"
    },
    "tags": []
   },
   "outputs": [
    {
     "data": {
      "text/html": [
       "<div>\n",
       "<style scoped>\n",
       "    .dataframe tbody tr th:only-of-type {\n",
       "        vertical-align: middle;\n",
       "    }\n",
       "\n",
       "    .dataframe tbody tr th {\n",
       "        vertical-align: top;\n",
       "    }\n",
       "\n",
       "    .dataframe thead th {\n",
       "        text-align: right;\n",
       "    }\n",
       "</style>\n",
       "<table border=\"1\" class=\"dataframe\">\n",
       "  <thead>\n",
       "    <tr style=\"text-align: right;\">\n",
       "      <th></th>\n",
       "      <th>reviewerID</th>\n",
       "      <th>asin</th>\n",
       "      <th>reviewerName</th>\n",
       "      <th>helpful</th>\n",
       "      <th>reviewText</th>\n",
       "      <th>overall</th>\n",
       "      <th>summary</th>\n",
       "      <th>unixReviewTime</th>\n",
       "      <th>reviewTime</th>\n",
       "      <th>day_diff</th>\n",
       "      <th>helpful_yes</th>\n",
       "      <th>total_vote</th>\n",
       "      <th>day_dif</th>\n",
       "      <th>helpful_no</th>\n",
       "      <th>score_pos_neg_diff</th>\n",
       "      <th>score_average_rating</th>\n",
       "      <th>wilson_lower_bound</th>\n",
       "    </tr>\n",
       "  </thead>\n",
       "  <tbody>\n",
       "    <tr>\n",
       "      <th>2031</th>\n",
       "      <td>A12B7ZMXFI6IXY</td>\n",
       "      <td>B007WTAJTO</td>\n",
       "      <td>Hyoun Kim \"Faluzure\"</td>\n",
       "      <td>[1952, 2020]</td>\n",
       "      <td>[[ UPDATE - 6/19/2014 ]]So my lovely wife boug...</td>\n",
       "      <td>5.00000</td>\n",
       "      <td>UPDATED - Great w/ Galaxy S4 &amp; Galaxy Tab 4 10...</td>\n",
       "      <td>1367366400</td>\n",
       "      <td>2013-01-05</td>\n",
       "      <td>702</td>\n",
       "      <td>1952</td>\n",
       "      <td>2020</td>\n",
       "      <td>701.00000</td>\n",
       "      <td>68</td>\n",
       "      <td>1884</td>\n",
       "      <td>0.96634</td>\n",
       "      <td>0.95754</td>\n",
       "    </tr>\n",
       "    <tr>\n",
       "      <th>3449</th>\n",
       "      <td>AOEAD7DPLZE53</td>\n",
       "      <td>B007WTAJTO</td>\n",
       "      <td>NLee the Engineer</td>\n",
       "      <td>[1428, 1505]</td>\n",
       "      <td>I have tested dozens of SDHC and micro-SDHC ca...</td>\n",
       "      <td>5.00000</td>\n",
       "      <td>Top of the class among all (budget-priced) mic...</td>\n",
       "      <td>1348617600</td>\n",
       "      <td>2012-09-26</td>\n",
       "      <td>803</td>\n",
       "      <td>1428</td>\n",
       "      <td>1505</td>\n",
       "      <td>802.00000</td>\n",
       "      <td>77</td>\n",
       "      <td>1351</td>\n",
       "      <td>0.94884</td>\n",
       "      <td>0.93652</td>\n",
       "    </tr>\n",
       "    <tr>\n",
       "      <th>4212</th>\n",
       "      <td>AVBMZZAFEKO58</td>\n",
       "      <td>B007WTAJTO</td>\n",
       "      <td>SkincareCEO</td>\n",
       "      <td>[1568, 1694]</td>\n",
       "      <td>NOTE:  please read the last update (scroll to ...</td>\n",
       "      <td>1.00000</td>\n",
       "      <td>1 Star reviews - Micro SDXC card unmounts itse...</td>\n",
       "      <td>1375660800</td>\n",
       "      <td>2013-05-08</td>\n",
       "      <td>579</td>\n",
       "      <td>1568</td>\n",
       "      <td>1694</td>\n",
       "      <td>578.00000</td>\n",
       "      <td>126</td>\n",
       "      <td>1442</td>\n",
       "      <td>0.92562</td>\n",
       "      <td>0.91214</td>\n",
       "    </tr>\n",
       "    <tr>\n",
       "      <th>317</th>\n",
       "      <td>A1ZQAQFYSXL5MQ</td>\n",
       "      <td>B007WTAJTO</td>\n",
       "      <td>Amazon Customer \"Kelly\"</td>\n",
       "      <td>[422, 495]</td>\n",
       "      <td>If your card gets hot enough to be painful, it...</td>\n",
       "      <td>1.00000</td>\n",
       "      <td>Warning, read this!</td>\n",
       "      <td>1346544000</td>\n",
       "      <td>2012-02-09</td>\n",
       "      <td>1033</td>\n",
       "      <td>422</td>\n",
       "      <td>495</td>\n",
       "      <td>1032.00000</td>\n",
       "      <td>73</td>\n",
       "      <td>349</td>\n",
       "      <td>0.85253</td>\n",
       "      <td>0.81858</td>\n",
       "    </tr>\n",
       "    <tr>\n",
       "      <th>4672</th>\n",
       "      <td>A2DKQQIZ793AV5</td>\n",
       "      <td>B007WTAJTO</td>\n",
       "      <td>Twister</td>\n",
       "      <td>[45, 49]</td>\n",
       "      <td>Sandisk announcement of the first 128GB micro ...</td>\n",
       "      <td>5.00000</td>\n",
       "      <td>Super high capacity!!!  Excellent price (on Am...</td>\n",
       "      <td>1394150400</td>\n",
       "      <td>2014-07-03</td>\n",
       "      <td>158</td>\n",
       "      <td>45</td>\n",
       "      <td>49</td>\n",
       "      <td>157.00000</td>\n",
       "      <td>4</td>\n",
       "      <td>41</td>\n",
       "      <td>0.91837</td>\n",
       "      <td>0.80811</td>\n",
       "    </tr>\n",
       "  </tbody>\n",
       "</table>\n",
       "</div>"
      ],
      "text/plain": [
       "          reviewerID        asin             reviewerName       helpful                                         reviewText  overall                                            summary  unixReviewTime reviewTime  day_diff  helpful_yes  total_vote    day_dif  helpful_no  score_pos_neg_diff  score_average_rating  wilson_lower_bound\n",
       "2031  A12B7ZMXFI6IXY  B007WTAJTO     Hyoun Kim \"Faluzure\"  [1952, 2020]  [[ UPDATE - 6/19/2014 ]]So my lovely wife boug...  5.00000  UPDATED - Great w/ Galaxy S4 & Galaxy Tab 4 10...      1367366400 2013-01-05       702         1952        2020  701.00000          68                1884               0.96634             0.95754\n",
       "3449   AOEAD7DPLZE53  B007WTAJTO        NLee the Engineer  [1428, 1505]  I have tested dozens of SDHC and micro-SDHC ca...  5.00000  Top of the class among all (budget-priced) mic...      1348617600 2012-09-26       803         1428        1505  802.00000          77                1351               0.94884             0.93652\n",
       "4212   AVBMZZAFEKO58  B007WTAJTO              SkincareCEO  [1568, 1694]  NOTE:  please read the last update (scroll to ...  1.00000  1 Star reviews - Micro SDXC card unmounts itse...      1375660800 2013-05-08       579         1568        1694  578.00000         126                1442               0.92562             0.91214\n",
       "317   A1ZQAQFYSXL5MQ  B007WTAJTO  Amazon Customer \"Kelly\"    [422, 495]  If your card gets hot enough to be painful, it...  1.00000                                Warning, read this!      1346544000 2012-02-09      1033          422         495 1032.00000          73                 349               0.85253             0.81858\n",
       "4672  A2DKQQIZ793AV5  B007WTAJTO                  Twister      [45, 49]  Sandisk announcement of the first 128GB micro ...  5.00000  Super high capacity!!!  Excellent price (on Am...      1394150400 2014-07-03       158           45          49  157.00000           4                  41               0.91837             0.80811"
      ]
     },
     "execution_count": 28,
     "metadata": {},
     "output_type": "execute_result"
    }
   ],
   "source": [
    "df.sort_values(by = \"wilson_lower_bound\", ascending = False).head()"
   ]
  }
 ],
 "metadata": {
  "kernelspec": {
   "display_name": "Python 3",
   "language": "python",
   "name": "python3"
  },
  "language_info": {
   "codemirror_mode": {
    "name": "ipython",
    "version": 3
   },
   "file_extension": ".py",
   "mimetype": "text/x-python",
   "name": "python",
   "nbconvert_exporter": "python",
   "pygments_lexer": "ipython3",
   "version": "3.7.12"
  },
  "papermill": {
   "default_parameters": {},
   "duration": 13.929904,
   "end_time": "2022-11-02T11:38:13.545469",
   "environment_variables": {},
   "exception": null,
   "input_path": "__notebook__.ipynb",
   "output_path": "__notebook__.ipynb",
   "parameters": {},
   "start_time": "2022-11-02T11:37:59.615565",
   "version": "2.3.4"
  }
 },
 "nbformat": 4,
 "nbformat_minor": 5
}
